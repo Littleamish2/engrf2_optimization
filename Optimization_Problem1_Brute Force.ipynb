{
 "cells": [
  {
   "cell_type": "markdown",
   "id": "bc4a6c8f",
   "metadata": {},
   "source": [
    "Plan:\n",
    "* Use linspace to produce a bunch of values at some intervals\n",
    "* SMARTLY restrict values\n",
    "* Try and make it make sense\n",
    "* Code equations first!\n",
    "* Could brute force with REAL values (restrict to range) or CALCULATE values (use equations from geometry)"
   ]
  },
  {
   "cell_type": "markdown",
   "id": "82a6e748",
   "metadata": {},
   "source": [
    "## Equations\n",
    "With credit to tables from _Design of Rockets and Space Launch Vehicles_\n",
    "* Change in velocity: $$\\Delta v = v_{eq}ln(\\frac{m_0}{m_f}) = v_{eq}ln(mass\\ ratio) = v_{eq}ln(\\mu) = g_0 I_{sp}ln\\mu$$\n",
    "    * $g_0$ is Earth's standard gravity at sea level. Taken to be 9.80665 $m/s^2$\n",
    "* Missing time to burn equation\n",
    "* Mass fraction: $$\\mu = \\frac{initial\\ mass}{final\\ mass} = \\frac{m_0}{m_f} = \\frac{m_0}{m_0-m_p}$$ \n",
    "<br />\n",
    "* Total Launch Weight (Propellant and shell - NOT payload):\n",
    "$$W_L = 0.04 Ld^2$$ \n",
    "    * NOTE: lb, in, in\n",
    "    * Can be used to calculate masses instead of using values\n",
    "<br /><br />\n",
    "* Body Structure vs. Launch Weight: $$W_{Body Structure}/W_{Launch Weight} = 0.22$$\n",
    "    * Launch weight includes the propellant\n",
    "    * Combine with Total launch weight equations"
   ]
  },
  {
   "cell_type": "markdown",
   "id": "cf520ea9",
   "metadata": {},
   "source": [
    "### SM3 Mass Fractions (Mf/Mo)\n",
    "* First Stage: .376\n",
    "* Second Stage: .612\n",
    "* Third Stage: .604"
   ]
  },
  {
   "cell_type": "markdown",
   "id": "5696b2d1",
   "metadata": {},
   "source": [
    "### Range of Real Mass Fractions (Mf/Mo)\n",
    "With credit to tables from _Design of Rockets and Space Launch Vehicles_\n",
    "* First Stage: \n",
    "    * 0.0432 -> 0.1198\n",
    "* Second Stage:\n",
    "    * 0.0495 -> 0.1700\n",
    "* Third Stage:\n",
    "    * 0.0824 -> 0.1008"
   ]
  },
  {
   "cell_type": "markdown",
   "id": "b14ad54c",
   "metadata": {},
   "source": [
    "### Range of Isps\n",
    "With credit to tables from _Design of Rockets and Space Launch Vehicles_\n",
    "* 200 seconds to 250 seconds \n",
    "    * 250 seconds more applicable"
   ]
  },
  {
   "cell_type": "code",
   "execution_count": 2,
   "id": "997bf269",
   "metadata": {},
   "outputs": [],
   "source": [
    "import numpy as np\n"
   ]
  },
  {
   "cell_type": "code",
   "execution_count": 27,
   "id": "1fbd249b",
   "metadata": {},
   "outputs": [],
   "source": [
    "specific_impulse = 250 # seconds\n",
    "g = 9.80665 # m / s^2\n",
    "v_eq = g*specific_impulse\n",
    "\n",
    "meters_to_inches = 39.3700787402 ## multiply to meters\n",
    "kg_to_lbs = 2.20462\n",
    "\n",
    "payload = 250 * kg_to_lbs  ## in lbs\n"
   ]
  },
  {
   "cell_type": "markdown",
   "id": "27893e32",
   "metadata": {},
   "source": [
    "## Calculating Delta V using range of actual values"
   ]
  },
  {
   "cell_type": "code",
   "execution_count": 4,
   "id": "db63446d",
   "metadata": {},
   "outputs": [],
   "source": [
    "#m0 / mf\n",
    "mass_frac_first = 1/np.linspace(0.0400, 0.1200)\n",
    "mass_frac_second = 1/np.linspace(.0450, 0.1700) \n",
    "mass_frac_third = 1/np.linspace(.0800, 0.1010)"
   ]
  },
  {
   "cell_type": "code",
   "execution_count": 5,
   "id": "09d3ee90",
   "metadata": {},
   "outputs": [],
   "source": [
    "max_mf1 = np.max(mass_frac_first)\n",
    "max_mf2 = np.max(mass_frac_second)\n",
    "max_mf3 = np.max(mass_frac_third)"
   ]
  },
  {
   "cell_type": "code",
   "execution_count": 6,
   "id": "2d09fdbc",
   "metadata": {},
   "outputs": [],
   "source": [
    "deltav_first = np.log(mass_frac_first) * v_eq\n",
    "deltav_second = np.log(mass_frac_second) * v_eq\n",
    "deltav_third = np.log(mass_frac_third) * v_eq\n",
    "deltav_total_max = np.max(deltav_first)+np.max(deltav_second)+np.max(deltav_third)"
   ]
  },
  {
   "cell_type": "code",
   "execution_count": 7,
   "id": "587ede76",
   "metadata": {},
   "outputs": [
    {
     "name": "stdout",
     "output_type": "stream",
     "text": [
      "Unitless values.\n",
      "Max Mass Fraction\n",
      "\tFirst:  25.0 \n",
      "\tSecond:  22.22222222222222 \n",
      "\tThird:  12.5\n",
      "\n",
      "\n",
      "Units in meters per second.\n",
      "Max Delta V\n",
      " \tFirst:  7891.597151985934 \n",
      "\tSecond:  7602.832900331016 \n",
      "\tThird:  6192.234202426388 \n",
      "\n",
      "Total Delta V:  21686.66425474334\n"
     ]
    }
   ],
   "source": [
    "print(\n",
    "\"Unitless values.\\nMax Mass Fraction\\n\"\n",
    "    \"\\tFirst: \", max_mf1, \"\\n\\tSecond: \", max_mf2, \"\\n\\tThird: \", max_mf3)\n",
    "print(\n",
    "\"\\n\\nUnits in meters per second.\\nMax Delta V\\n\",\n",
    "    \"\\tFirst: \", np.max(deltav_first), \"\\n\\tSecond: \", np.max(deltav_second), \"\\n\\tThird: \", np.max(deltav_third),\n",
    "\"\\n\\nTotal Delta V: \", deltav_total_max)"
   ]
  },
  {
   "cell_type": "markdown",
   "id": "4fad122c",
   "metadata": {},
   "source": [
    "## Calculating Delta V with Mass Equations"
   ]
  },
  {
   "cell_type": "code",
   "execution_count": 8,
   "id": "35f0c467",
   "metadata": {},
   "outputs": [],
   "source": [
    "## Constants given in project\n",
    "\n",
    "total_length = 10.0 * 39.3700787402\n",
    "diameter = 1.0 * 39.3700787402 ## convert given meters to inches (final unit inches)"
   ]
  },
  {
   "cell_type": "code",
   "execution_count": 9,
   "id": "5f141f27",
   "metadata": {},
   "outputs": [],
   "source": [
    "launch_weight = 0.04 * total_length * (diameter)*(diameter) ## pounds"
   ]
  },
  {
   "cell_type": "code",
   "execution_count": 10,
   "id": "70cc6b2d",
   "metadata": {
    "scrolled": true
   },
   "outputs": [
    {
     "name": "stdout",
     "output_type": "stream",
     "text": [
      "24409.497637972003 lbs\n",
      "11070.066955996374 kg\n"
     ]
    }
   ],
   "source": [
    "print(launch_weight, \"lbs\")\n",
    "print(launch_weight/2.205, \"kg\")"
   ]
  },
  {
   "cell_type": "code",
   "execution_count": 11,
   "id": "56f78e33",
   "metadata": {},
   "outputs": [
    {
     "name": "stdout",
     "output_type": "stream",
     "text": [
      "[ 1.   1.1  1.2  1.3  1.4  1.5  1.5  1.6  1.7  1.8  1.9  2.   2.1  2.2\n",
      "  2.3  2.4  2.5  2.5  2.6  2.7  2.8  2.9  3.   3.1  3.2  3.3  3.4  3.5\n",
      "  3.5  3.6  3.7  3.8  3.9  4.   4.1  4.2  4.3  4.4  4.5  4.5  4.6  4.7\n",
      "  4.8  4.9  5.   5.1  5.2  5.3  5.4  5.5  5.5  5.6  5.7  5.8  5.9  6.\n",
      "  6.1  6.2  6.3  6.4  6.5  6.5  6.6  6.7  6.8  6.9  7.   7.1  7.2  7.3\n",
      "  7.4  7.5  7.5  7.6  7.7  7.8  7.9  8.   8.1  8.2  8.3  8.4  8.5  8.5\n",
      "  8.6  8.7  8.8  8.9  9.   9.1  9.2  9.3  9.4  9.5  9.5  9.6  9.7  9.8\n",
      "  9.9 10. ]\n"
     ]
    }
   ],
   "source": [
    "## Lengths in ratio form\n",
    "l1_ratio = np.linspace(0.1, 1, 100)\n",
    "l2_ratio = np.linspace(0.1, 1, 100)\n",
    "print(np.round(l1_ratio*10, 1)) ## lengths corresponding to l1's ratio, rounded to tenths"
   ]
  },
  {
   "cell_type": "code",
   "execution_count": 12,
   "id": "4a62bc2a",
   "metadata": {},
   "outputs": [
    {
     "name": "stdout",
     "output_type": "stream",
     "text": [
      "[(1., 2., 3.) (1., 3., 4.)]\n"
     ]
    },
    {
     "data": {
      "text/plain": [
       "array([(1., 2., 3.), (1., 3., 4.), (4., 4., 2.)],\n",
       "      dtype=[('l1r', '<f8'), ('l2r', '<f8'), ('l3r', '<f8')])"
      ]
     },
     "execution_count": 12,
     "metadata": {},
     "output_type": "execute_result"
    }
   ],
   "source": [
    "## Create new data type to hold a tuple in each element of the array (makes adding elements easier)\n",
    "##length 1 ratio, length 2 ratio, length 3 ratio\n",
    "dt = np.dtype([('l1r', np.float64), ('l2r', np.float64), ('l3r', np.float64)])\n",
    "\n",
    "## Test dt to make sure it works as expected\n",
    "\n",
    "test = np.array([(1,2,3), (1,3,4)], dtype = dt)\n",
    "\n",
    "print(test)\n",
    "np.append(test, np.array([(4.,4.,2.)], dtype = dt))\n"
   ]
  },
  {
   "cell_type": "code",
   "execution_count": 13,
   "id": "012779f2",
   "metadata": {},
   "outputs": [],
   "source": [
    "## Find all possible ratio combos between the three stages, put it in an np array of tuples\n",
    "ratio_list = np.array([], dtype=dt )\n",
    "\n",
    "for i in l1_ratio:\n",
    "    for j in l2_ratio:\n",
    "        if(i+j > 1):\n",
    "            continue\n",
    "        else:\n",
    "            ratio_list = np.append(ratio_list, np.array([(i, j, 1-i-j)], dtype = dt)) \n",
    "    \n",
    "    \n",
    "    "
   ]
  },
  {
   "cell_type": "code",
   "execution_count": 14,
   "id": "10693e02",
   "metadata": {},
   "outputs": [
    {
     "name": "stdout",
     "output_type": "stream",
     "text": [
      "[[1.   1.   8.  ]\n",
      " [1.   1.09 7.91]\n",
      " [1.   1.18 7.82]\n",
      " ...\n",
      " [8.91 1.   0.09]\n",
      " [8.91 1.09 0.  ]\n",
      " [9.   1.   0.  ]] \n",
      "\n",
      "(4005, 3)\n"
     ]
    }
   ],
   "source": [
    "## convert the np array of tuples to a more useful np array of 3 columns and each row representing a tuple of \n",
    "## the ratios\n",
    "ratio_list_converted = np.array([])\n",
    "for i in ratio_list:\n",
    "    ratio_list_converted = np.append(ratio_list_converted, np.array([[i[0], i[1], i[2]]]))\n",
    "    \n",
    "ratio_list_converted = np.reshape(ratio_list_converted, (-1, 3)).astype(np.float64)\n",
    "\n",
    "##np.set_printoptions(threshold=np.inf) - to see ENTIRE list\n",
    "print(np.round(ratio_list_converted*10, 2), \"\\n\")\n",
    "print(ratio_list_converted.shape)\n",
    "\n",
    "## 4005 different combinations!"
   ]
  },
  {
   "cell_type": "code",
   "execution_count": 25,
   "id": "39f25f3e",
   "metadata": {},
   "outputs": [],
   "source": [
    "##now we calculate masses\n",
    "\n",
    "launch_weights = 0.04 * (10 * ratio_list_converted * meters_to_inches) * diameter * diameter + payload() ## lbs \n",
    "\n",
    "final_masses = launch_weights*.22 + payload ## after losing the propellant"
   ]
  },
  {
   "cell_type": "code",
   "execution_count": 16,
   "id": "bfb023d4",
   "metadata": {},
   "outputs": [
    {
     "name": "stdout",
     "output_type": "stream",
     "text": [
      "[2 9]\n"
     ]
    }
   ],
   "source": [
    "test1 = np.array([[0, 2], [4,5]])\n",
    "print(np.sum(test1, axis = 1))"
   ]
  },
  {
   "cell_type": "code",
   "execution_count": 65,
   "id": "60630dc7",
   "metadata": {},
   "outputs": [
    {
     "name": "stdout",
     "output_type": "stream",
     "text": [
      "(4005, 3)\n",
      "[7.12136758 6.70050973 6.3266198  ... 3.23378076 3.14410566 3.21361608]\n",
      "[7.12136758 6.70050973 6.3266198  ... 3.23378076 3.14410566 3.21361608]\n",
      "[0.13050442 0.14246209 0.15462395 ... 2.04804184 2.55328098 2.46421952]\n",
      "[0.13050442 0.14246209 0.15462395 ... 2.04804184 2.55328098 2.46421952]\n",
      "[4.29847651 4.29582788 4.29312183 ... 1.33374559 0.81967213 0.81967213]\n",
      "[4.29847651 4.29582788 4.29312183 ... 1.33374559 0.81967213 0.81967213]\n"
     ]
    }
   ],
   "source": [
    "## now mass fractions - m0/mf\n",
    "\n",
    "stage_1_mf = np.sum(launch_weights, axis = 1)/(np.sum(launch_weights[:, 1:2], axis=1) + final_masses[:, 0])\n",
    "\n",
    "stage_2_mf = np.sum(launch_weights[:, 1:2], axis = 1)/(launch_weights[:, 2] + final_masses[:, 1])\n",
    "\n",
    "stage_3_mf = launch_weights[:, 2]/final_masses[:, 2]\n",
    "\n",
    "## Calculate mass fractions by taking initial launch weight / final masses of the lowest stage\n",
    "\n",
    "mass_fractions = np.stack((stage_1_mf, stage_2_mf, stage_3_mf), axis = 1)\n",
    "\n",
    "print(mass_fractions.shape)\n",
    "\n",
    "print(mass_fractions[:, 0])\n",
    "print(stage_1_mf)\n",
    "\n",
    "print(mass_fractions[:, 1])\n",
    "print(stage_2_mf)\n",
    "\n",
    "print(mass_fractions[:, 2])\n",
    "print(stage_3_mf)\n",
    "\n"
   ]
  },
  {
   "cell_type": "code",
   "execution_count": 86,
   "id": "cbdffc0f",
   "metadata": {},
   "outputs": [],
   "source": [
    "## now delta vs\n",
    "\n",
    "delta_v = np.log(mass_fractions) * v_eq \n",
    "delta_v.shape\n",
    "## and quickly sum for total delta vs\n",
    "\n",
    "delta_v = np.sum(delta_v, axis = 1)\n",
    "\n"
   ]
  },
  {
   "cell_type": "code",
   "execution_count": 93,
   "id": "d6cb09de",
   "metadata": {},
   "outputs": [
    {
     "name": "stdout",
     "output_type": "stream",
     "text": [
      "[3395.58253032 3459.66004835 3518.18727715 ... 5341.01373502 4619.07388522\n",
      " 4585.64122209]\n",
      "6231.431968068142\n",
      "3592\n",
      "[2.21786867 2.1652463  2.64490749]\n"
     ]
    }
   ],
   "source": [
    "## Now find best performing mass fractions\n",
    "\n",
    "print(delta_v)\n",
    "print(np.max(delta_v))\n",
    "print(np.argmax(delta_v))\n",
    "\n",
    "best_performing_index = np.argmax(delta_v)\n",
    "\n",
    "print(mass_fractions[best_performing_index, :])\n"
   ]
  },
  {
   "cell_type": "code",
   "execution_count": 104,
   "id": "43aeb242",
   "metadata": {},
   "outputs": [
    {
     "name": "stdout",
     "output_type": "stream",
     "text": [
      "[6231.43196807 6231.13029164 6230.67617753 6229.8593052  6228.76524334\n",
      " 6227.6987571  6225.59067593 6224.72094572 6222.77919848 6222.37892347]\n",
      "6231.431968068142\n",
      "[[2.21786867 2.1652463  2.64490749]]\n",
      "6231.13029164159\n",
      "[[2.18453723 2.19801291 2.64490749]]\n",
      "6230.676177526348\n",
      "[[2.252233   2.13155199 2.64490749]]\n",
      "6229.859305195821\n",
      "[[2.1521928  2.22988963 2.64490749]]\n",
      "6228.7652433409985\n",
      "[[2.287679   2.09689002 2.64490749]]\n",
      "6227.698757096287\n",
      "[[2.12079219 2.26091222 2.64490749]]\n",
      "6225.590675934372\n",
      "[[2.32425855 2.06121811 2.64490749]]\n",
      "6224.720945717543\n",
      "[[2.09029468 2.29111456 2.64490749]]\n",
      "6222.77919848226\n",
      "[[2.16121821 2.100253   2.78837134]]\n",
      "6222.378923469012\n",
      "[[2.12955562 2.13113194 2.78837134]]\n",
      "6222.243384537045\n",
      "[[2.19383654 2.06857395 2.78837134]]\n",
      "6221.531226458943\n",
      "[[2.27756895 2.24330989 2.47593345]]\n",
      "6221.187831702854\n",
      "[[2.24243315 2.27814032 2.47593345]]\n",
      "6221.116630288581\n",
      "[[2.09880737 2.1612407  2.78837134]]\n",
      "6221.031661328636\n",
      "[[2.3620269  2.02449147 2.64490749]]\n",
      "6220.991549583088\n",
      "[[2.06066186 2.32052874 2.64490749]]\n",
      "6220.6898661461255\n",
      "[[2.22745454 2.03606328 2.78837134]]\n",
      "6220.678708438378\n",
      "[[2.31382333 2.20739264 2.47593345]]\n",
      "6219.754093401798\n",
      "[[2.20836495 2.31193251 2.47593345]]\n",
      "6219.059681096685\n",
      "[[2.06893443 2.19060775 2.78837134]]\n",
      "6218.512562193729\n",
      "[[2.35125058 2.1703369  2.47593345]]\n",
      "6218.028518133799\n",
      "[[2.26211889 2.00268782 2.78837134]]\n",
      "6217.3249334409975\n",
      "[[2.17531643 2.34473221 2.47593345]]\n",
      "6216.570348853947\n",
      "[[2.03185746 2.34918523 2.64490749]]\n",
      "6216.269456384702\n",
      "[[2.03989992 2.21926015 2.78837134]]\n",
      "6214.953286391329\n",
      "[[2.40104298 1.9866626  2.64490749]]\n",
      "6214.901165109546\n",
      "[[2.38990854 2.13208765 2.47593345]]\n",
      "6214.1595875688345\n",
      "[[2.29787921 1.96841258 2.78837134]]\n",
      "6213.985907966437\n",
      "[[2.14324247 2.37658252 2.47593345]]\n",
      "6212.801989255633\n",
      "[[2.01166906 2.24722369 2.78837134]]\n",
      "6211.511854522683\n",
      "[[2.00384723 2.37711293 2.64490749]]\n",
      "6209.814307914952\n",
      "[[2.1121006  2.40752406 2.47593345]]\n",
      "6209.696908483704\n",
      "[[2.42985894 2.09258629 2.47593345]]\n",
      "6208.972393087681\n",
      "[[2.33478831 1.9332007  2.78837134]]\n",
      "6208.7085206159445\n",
      "[[1.98420892 2.2745229  2.78837134]]\n",
      "6207.204444811106\n",
      "[[2.44136964 1.94768114 2.64490749]]\n",
      "6205.865858890217\n",
      "[[1.97659878 2.40433929 2.64490749]]\n",
      "6204.880107860475\n",
      "[[2.08185076 2.43759518 2.47593345]]\n",
      "6204.035986636409\n",
      "[[1.95748837 2.30118118 2.78837134]]\n",
      "6202.733730477266\n",
      "[[2.4711677  2.05177032 2.47593345]]\n",
      "6202.343805264328\n",
      "[[2.37290246 1.89701323 2.78837134]]\n",
      "6202.046439773256\n",
      "[[2.10738969 2.045301   2.91169647]]\n",
      "6201.795295235353\n",
      "[[2.13839177 2.01544206 2.91169647]]\n",
      "6201.467300579329\n",
      "[[2.07727368 2.07446338 2.91169647]]\n",
      "6200.64520590254\n",
      "[[2.17031963 1.9848613  2.91169647]]\n",
      "6200.120497112966\n",
      "[[2.0480063  2.10295328 2.91169647]]\n",
      "6199.677918648174\n",
      "[[1.95008143 2.43089041 2.64490749]]\n",
      "6199.24678719184\n",
      "[[2.05245518 2.46683211 2.47593345]]\n",
      "6198.827447993826\n",
      "[[1.93147793 2.32722085 2.78837134]]\n",
      "6198.520738491859\n",
      "[[2.20321535 1.95353222 2.91169647]]\n",
      "6198.063244904738\n",
      "[[2.01955218 2.13079371 2.91169647]]\n",
      "6197.615353492834\n",
      "[[2.48307405 1.90749359 2.64490749]]\n",
      "6195.347913919984\n",
      "[[1.99187789 2.15800663 2.91169647]]\n",
      "6195.3388475282045\n",
      "[[2.23712363 1.92142702 2.91169647]]\n",
      "6194.136463028171\n",
      "[[2.41228164 1.85980908 2.78837134]]\n",
      "6193.824172175548\n",
      "[[2.51390527 2.00957301 2.47593345]]\n",
      "6193.122468896076\n",
      "[[1.90614966 2.35266319 2.78837134]]\n",
      "6192.989780050931\n",
      "[[1.92426616 2.45679109 2.64490749]]\n",
      "6192.9720433511175\n",
      "[[2.02387817 2.49526907 2.47593345]]\n",
      "6192.022518981711\n",
      "[[1.96495179 2.18461301 2.91169647]]\n",
      "6191.007906150229\n",
      "[[2.27209194 1.88851649 2.91169647]]\n",
      "6188.1311517804625\n",
      "[[1.93874396 2.21063291 2.91169647]]\n",
      "6186.957452650126\n",
      "[[1.88147707 2.37752852 2.78837134]]\n",
      "6186.108413424068\n",
      "[[1.996086   2.52293846 2.47593345]]\n",
      "6185.994590449802\n",
      "[[2.52622804 1.8660431  2.64490749]]\n",
      "6185.8397541547665\n",
      "[[1.89912545 2.48206495 2.64490749]]\n",
      "6185.426583526981\n",
      "[[2.30817079 1.85476995 2.91169647]]\n",
      "6184.196670047054\n",
      "[[2.4529899  1.82154477 2.78837134]]\n",
      "6183.714362488199\n",
      "[[1.91322602 2.2360855  2.91169647]]\n",
      "6182.755843582128\n",
      "[[2.55814712 1.96592301 2.47593345]]\n",
      "6182.055983511618\n",
      "[[2.34057214 2.33882724 2.27398104]]\n",
      "6181.431701399167\n",
      "[[2.30348139 2.37588206 2.27398104]]\n",
      "6181.328555988189\n",
      "[[2.3788769  2.30048469 2.27398104]]\n",
      "6180.365939504392\n",
      "[[1.85743503 2.40183625 2.78837134]]\n",
      "6179.582851936009\n",
      "[[2.26754786 2.41171295 2.27398104]]\n",
      "6179.106596253354\n",
      "[[2.41845628 2.26078608 2.27398104]]\n",
      "6178.809497749078\n",
      "[[1.8883711  2.26098915 2.91169647]]\n",
      "6178.703817601725\n",
      "[[1.96904679 2.54987094 2.47593345]]\n",
      "6178.482539322567\n",
      "[[2.34541392 1.82015514 2.91169647]]\n",
      "6178.263048860951\n",
      "[[1.87463319 2.50673447 2.64490749]]\n",
      "6176.622951986999\n",
      "[[2.2327182  2.44637956 2.27398104]]\n",
      "6175.229160947061\n",
      "[[2.45937498 2.21965819 2.27398104]]\n",
      "6173.451000790788\n",
      "[[1.86415368 2.28536142 2.91169647]]\n",
      "6173.3788716428135\n",
      "[[1.83399966 2.42560492 2.78837134]]\n",
      "6173.311994276701\n",
      "[[2.08568044 1.97001468 3.01884523]]\n",
      "6173.249053777403\n",
      "[[2.05617737 1.99823014 3.01884523]]\n",
      "6172.653632135529\n",
      "[[2.19894233 2.47993773 2.27398104]]\n",
      "6172.578584219113\n",
      "[[2.11604248 1.94116714 3.01884523]]\n",
      "6172.447901109476\n",
      "[[2.02749734 2.02583407 3.01884523]]\n",
      "6172.35190068625\n",
      "[[2.49509569 1.78217435 2.78837134]]\n",
      "6172.125540828178\n",
      "[[2.57090854 1.82326919 2.64490749]]\n",
      "6170.985240421764\n",
      "[[2.14730156 1.91166603 3.01884523]]\n",
      "6170.961790341891\n",
      "[[1.99960637 2.05284613 3.01884523]]\n",
      "6170.802035783363\n",
      "[[1.94273033 2.57609556 2.47593345]]\n",
      "6170.292063473462\n",
      "[[1.85076463 2.53082107 2.64490749]]\n",
      "6170.050898835089\n",
      "[[2.38387863 1.78463809 2.91169647]]\n",
      "6169.514271359518\n",
      "[[2.50170214 2.17702241 2.27398104]]\n",
      "6169.287153982442\n",
      "[[2.60397407 1.920744   2.47593345]]\n",
      "6168.839583632009\n",
      "[[1.97247234 2.07928515 3.01884523]]\n",
      "6168.462294984367\n",
      "[[2.17949803 1.8814889  3.01884523]]\n"
     ]
    }
   ],
   "source": [
    "## What if I want to find the next best performing? The next 5 performing?\n",
    "\n",
    "sorted_delta_v = np.sort(delta_v)\n",
    "\n",
    "##reverse it to get descending instead of ascending\n",
    "\n",
    "sorted_delta_v = sorted_delta_v[::-1]\n",
    "\n",
    "## now it stores biggest first and next biggest after\n",
    "\n",
    "print(sorted_delta_v[0:10])\n",
    "\n",
    "for i in sorted_delta_v[0:100]:\n",
    "    print(i)\n",
    "    print(mass_fractions[np.where(delta_v == i)[0], :])\n",
    "\n"
   ]
  },
  {
   "cell_type": "code",
   "execution_count": null,
   "id": "0795ce9f",
   "metadata": {},
   "outputs": [],
   "source": []
  }
 ],
 "metadata": {
  "kernelspec": {
   "display_name": "Python 3 (ipykernel)",
   "language": "python",
   "name": "python3"
  },
  "language_info": {
   "codemirror_mode": {
    "name": "ipython",
    "version": 3
   },
   "file_extension": ".py",
   "mimetype": "text/x-python",
   "name": "python",
   "nbconvert_exporter": "python",
   "pygments_lexer": "ipython3",
   "version": "3.11.7"
  }
 },
 "nbformat": 4,
 "nbformat_minor": 5
}
