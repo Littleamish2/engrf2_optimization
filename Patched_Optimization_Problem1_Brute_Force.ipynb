{
 "cells": [
  {
   "cell_type": "markdown",
   "id": "bc4a6c8f",
   "metadata": {},
   "source": [
    "Plan:\n",
    "* Use linspace to produce a bunch of values at some intervals\n",
    "* SMARTLY restrict values\n",
    "* Try and make it make sense\n",
    "* Code equations first!\n",
    "* Could brute force with REAL values (restrict to range) or CALCULATE values (use equations from geometry)"
   ]
  },
  {
   "cell_type": "markdown",
   "id": "82a6e748",
   "metadata": {},
   "source": [
    "## Equations\n",
    "With credit to tables from _Design of Rockets and Space Launch Vehicles_\n",
    "* Change in velocity: $$\\Delta v = v_{e}ln(\\frac{m_0}{m_f})$$\n",
    "    * $g_0$ is Earth's standard gravity at sea level. Taken to be 9.80665 $m/s^2$\n",
    "<br /><br />\n",
    "* Time to Burn Equation: $$\\Delta V = -g_0 t + v_e ln\\frac{m_0}{m_f} =-g_0 t + v_e ln(\\mu) $$\n",
    "* Mass fraction: $$\\mu = \\frac{initial\\ mass}{final\\ mass} = \\frac{m_0}{m_f} = \\frac{m_0}{m_0-m_p}$$ \n",
    "<br />\n",
    "* Total Launch Weight (Propellant and shell - NOT payload):\n",
    "$W_L = 0.04 Ld^2$\n",
    "    \n",
    "    * NOTE: lb, in, in\n",
    "    * Can be used to calculate masses instead of using values\n",
    "<br /><br />\n",
    "* Body Structure vs. Launch Weight: $$W_{Body Structure}/W_{Launch Weight} = 0.22$$\n",
    "    * Launch weight includes the propellant\n",
    "    * Combine with Total launch weight equations"
   ]
  },
  {
   "cell_type": "markdown",
   "id": "cf520ea9",
   "metadata": {},
   "source": [
    "### SM3 Mass Fractions (Mf/Mo)\n",
    "* First Stage: .376\n",
    "* Second Stage: .612\n",
    "* Third Stage: .604"
   ]
  },
  {
   "cell_type": "markdown",
   "id": "5696b2d1",
   "metadata": {},
   "source": [
    "### Range of Real Mass Fractions (Mf/Mo)\n",
    "With credit to tables from _Design of Rockets and Space Launch Vehicles_\n",
    "* First Stage: \n",
    "    * 0.0432 -> 0.1198\n",
    "* Second Stage:\n",
    "    * 0.0495 -> 0.1700\n",
    "* Third Stage:\n",
    "    * 0.0824 -> 0.1008"
   ]
  },
  {
   "cell_type": "markdown",
   "id": "b14ad54c",
   "metadata": {},
   "source": [
    "### Range of Isps\n",
    "With credit to tables from _Design of Rockets and Space Launch Vehicles_\n",
    "* 200 seconds to 250 seconds \n",
    "    * 250 seconds more applicable"
   ]
  },
  {
   "cell_type": "markdown",
   "id": "a460bca5",
   "metadata": {},
   "source": [
    "### Project Restrictions\n",
    "* Mass fractions ($m_0$ / $m_f$) between 1.25 and 10\n",
    "* Mass fractions ($m_f$ / $m_0$) between .1 and .8"
   ]
  },
  {
   "cell_type": "code",
   "execution_count": 3,
   "id": "997bf269",
   "metadata": {
    "execution": {
     "iopub.execute_input": "2025-04-10T15:52:14.228567Z",
     "iopub.status.busy": "2025-04-10T15:52:14.228151Z",
     "iopub.status.idle": "2025-04-10T15:52:14.520995Z",
     "shell.execute_reply": "2025-04-10T15:52:14.519708Z"
    }
   },
   "outputs": [],
   "source": [
    "import numpy as np\n"
   ]
  },
  {
   "cell_type": "code",
   "execution_count": 4,
   "id": "1fbd249b",
   "metadata": {
    "execution": {
     "iopub.execute_input": "2025-04-10T15:52:14.526704Z",
     "iopub.status.busy": "2025-04-10T15:52:14.526182Z",
     "iopub.status.idle": "2025-04-10T15:52:14.531588Z",
     "shell.execute_reply": "2025-04-10T15:52:14.530507Z"
    }
   },
   "outputs": [],
   "source": [
    "specific_impulse = 250 # seconds\n",
    "g = 9.80665 # m / s^2\n",
    "v_eq = g*specific_impulse\n",
    "\n",
    "meters_to_inches = 39.3700787402 ## multiply to meters\n",
    "kg_to_lbs = 2.20462\n",
    "\n",
    "payload = 250 * kg_to_lbs  ## in lbs\n",
    "\n",
    "min_mf = 1.25 ## or .8\n",
    "max_mf = 10 ## or .1"
   ]
  },
  {
   "cell_type": "markdown",
   "id": "27893e32",
   "metadata": {},
   "source": [
    "## Calculating Delta V using range of actual values"
   ]
  },
  {
   "cell_type": "code",
   "execution_count": 5,
   "id": "db63446d",
   "metadata": {
    "execution": {
     "iopub.execute_input": "2025-04-10T15:52:14.537113Z",
     "iopub.status.busy": "2025-04-10T15:52:14.536694Z",
     "iopub.status.idle": "2025-04-10T15:52:14.542867Z",
     "shell.execute_reply": "2025-04-10T15:52:14.541882Z"
    }
   },
   "outputs": [],
   "source": [
    "#m0 / mf\n",
    "mass_frac_first = 1/np.linspace(1/min_mf, 0.1200)  ## floor capped at .1 (.04 originally)\n",
    "mass_frac_second = 1/np.linspace(1/min_mf, 0.1700) ## floor capped at .1 (.0450 originally)\n",
    "mass_frac_third = 1/np.linspace(1/min_mf, 0.1010) ## floor capped at .1 (.0800 originally)"
   ]
  },
  {
   "cell_type": "code",
   "execution_count": 6,
   "id": "09d3ee90",
   "metadata": {
    "execution": {
     "iopub.execute_input": "2025-04-10T15:52:14.547466Z",
     "iopub.status.busy": "2025-04-10T15:52:14.546994Z",
     "iopub.status.idle": "2025-04-10T15:52:14.552238Z",
     "shell.execute_reply": "2025-04-10T15:52:14.551232Z"
    }
   },
   "outputs": [],
   "source": [
    "max_mf1 = np.max(mass_frac_first)\n",
    "max_mf2 = np.max(mass_frac_second)\n",
    "max_mf3 = np.max(mass_frac_third)"
   ]
  },
  {
   "cell_type": "code",
   "execution_count": 7,
   "id": "2d09fdbc",
   "metadata": {
    "execution": {
     "iopub.execute_input": "2025-04-10T15:52:14.556614Z",
     "iopub.status.busy": "2025-04-10T15:52:14.556203Z",
     "iopub.status.idle": "2025-04-10T15:52:14.562014Z",
     "shell.execute_reply": "2025-04-10T15:52:14.560943Z"
    }
   },
   "outputs": [],
   "source": [
    "deltav_first = np.log(mass_frac_first) * v_eq\n",
    "deltav_second = np.log(mass_frac_second) * v_eq\n",
    "deltav_third = np.log(mass_frac_third) * v_eq\n",
    "deltav_total_max = np.max(deltav_first)+np.max(deltav_second)+np.max(deltav_third)"
   ]
  },
  {
   "cell_type": "code",
   "execution_count": 8,
   "id": "587ede76",
   "metadata": {
    "execution": {
     "iopub.execute_input": "2025-04-10T15:52:14.566440Z",
     "iopub.status.busy": "2025-04-10T15:52:14.565907Z",
     "iopub.status.idle": "2025-04-10T15:52:14.573192Z",
     "shell.execute_reply": "2025-04-10T15:52:14.571861Z"
    }
   },
   "outputs": [
    {
     "name": "stdout",
     "output_type": "stream",
     "text": [
      "Unitless values.\n",
      "Max Mass Fraction\n",
      "\tFirst:  8.333333333333334 \n",
      "\tSecond:  5.88235294117647 \n",
      "\tThird:  9.900990099009901\n",
      "\n",
      "\n",
      "Units in meters per second.\n",
      "Max Delta V\n",
      " \tFirst:  5198.170601819155 \n",
      "\tSecond:  4344.240140982806 \n",
      "\tThird:  5620.766672537209 \n",
      "\n",
      "Total Delta V:  15163.17741533917\n"
     ]
    }
   ],
   "source": [
    "print(\n",
    "\"Unitless values.\\nMax Mass Fraction\\n\"\n",
    "    \"\\tFirst: \", max_mf1, \"\\n\\tSecond: \", max_mf2, \"\\n\\tThird: \", max_mf3)\n",
    "print(\n",
    "\"\\n\\nUnits in meters per second.\\nMax Delta V\\n\",\n",
    "    \"\\tFirst: \", np.max(deltav_first), \"\\n\\tSecond: \", np.max(deltav_second), \"\\n\\tThird: \", np.max(deltav_third),\n",
    "\"\\n\\nTotal Delta V: \", deltav_total_max)"
   ]
  },
  {
   "cell_type": "markdown",
   "id": "4fad122c",
   "metadata": {},
   "source": [
    "## Calculating Delta V with Mass Equations"
   ]
  },
  {
   "cell_type": "code",
   "execution_count": 9,
   "id": "35f0c467",
   "metadata": {
    "execution": {
     "iopub.execute_input": "2025-04-10T15:52:14.580912Z",
     "iopub.status.busy": "2025-04-10T15:52:14.580421Z",
     "iopub.status.idle": "2025-04-10T15:52:14.586396Z",
     "shell.execute_reply": "2025-04-10T15:52:14.585427Z"
    }
   },
   "outputs": [],
   "source": [
    "## Constants given in project\n",
    "\n",
    "total_length = 10.0 * 39.3700787402\n",
    "diameter = 1.0 * 39.3700787402 ## convert given meters to inches (final unit inches)"
   ]
  },
  {
   "cell_type": "code",
   "execution_count": 10,
   "id": "5f141f27",
   "metadata": {
    "execution": {
     "iopub.execute_input": "2025-04-10T15:52:14.591068Z",
     "iopub.status.busy": "2025-04-10T15:52:14.590470Z",
     "iopub.status.idle": "2025-04-10T15:52:14.595860Z",
     "shell.execute_reply": "2025-04-10T15:52:14.594899Z"
    }
   },
   "outputs": [],
   "source": [
    "launch_weight = 0.04 * total_length * (diameter)*(diameter) ## pounds"
   ]
  },
  {
   "cell_type": "code",
   "execution_count": 11,
   "id": "70cc6b2d",
   "metadata": {
    "execution": {
     "iopub.execute_input": "2025-04-10T15:52:14.601180Z",
     "iopub.status.busy": "2025-04-10T15:52:14.600517Z",
     "iopub.status.idle": "2025-04-10T15:52:14.606365Z",
     "shell.execute_reply": "2025-04-10T15:52:14.605585Z"
    },
    "scrolled": true
   },
   "outputs": [
    {
     "name": "stdout",
     "output_type": "stream",
     "text": [
      "24409.497637972003 lbs\n",
      "11070.066955996374 kg\n"
     ]
    }
   ],
   "source": [
    "print(launch_weight, \"lbs\")\n",
    "print(launch_weight/2.205, \"kg\")"
   ]
  },
  {
   "cell_type": "code",
   "execution_count": 12,
   "id": "56f78e33",
   "metadata": {
    "execution": {
     "iopub.execute_input": "2025-04-10T15:52:14.610948Z",
     "iopub.status.busy": "2025-04-10T15:52:14.610501Z",
     "iopub.status.idle": "2025-04-10T15:52:14.628658Z",
     "shell.execute_reply": "2025-04-10T15:52:14.618190Z"
    }
   },
   "outputs": [
    {
     "name": "stdout",
     "output_type": "stream",
     "text": [
      "[ 1.   1.1  1.2  1.3  1.4  1.5  1.5  1.6  1.7  1.8  1.9  2.   2.1  2.2\n",
      "  2.3  2.4  2.5  2.5  2.6  2.7  2.8  2.9  3.   3.1  3.2  3.3  3.4  3.5\n",
      "  3.5  3.6  3.7  3.8  3.9  4.   4.1  4.2  4.3  4.4  4.5  4.5  4.6  4.7\n",
      "  4.8  4.9  5.   5.1  5.2  5.3  5.4  5.5  5.5  5.6  5.7  5.8  5.9  6.\n",
      "  6.1  6.2  6.3  6.4  6.5  6.5  6.6  6.7  6.8  6.9  7.   7.1  7.2  7.3\n",
      "  7.4  7.5  7.5  7.6  7.7  7.8  7.9  8.   8.1  8.2  8.3  8.4  8.5  8.5\n",
      "  8.6  8.7  8.8  8.9  9.   9.1  9.2  9.3  9.4  9.5  9.5  9.6  9.7  9.8\n",
      "  9.9 10. ]\n"
     ]
    }
   ],
   "source": [
    "## Lengths in ratio form\n",
    "l1_ratio = np.linspace(0.1, 1, 100)\n",
    "l2_ratio = np.linspace(0.1, 1, 100)\n",
    "print(np.round(l1_ratio*10, 1)) ## lengths corresponding to l1's ratio, rounded to tenths"
   ]
  },
  {
   "cell_type": "code",
   "execution_count": 13,
   "id": "4a62bc2a",
   "metadata": {
    "execution": {
     "iopub.execute_input": "2025-04-10T15:52:14.633606Z",
     "iopub.status.busy": "2025-04-10T15:52:14.633022Z",
     "iopub.status.idle": "2025-04-10T15:52:14.646774Z",
     "shell.execute_reply": "2025-04-10T15:52:14.645955Z"
    }
   },
   "outputs": [
    {
     "name": "stdout",
     "output_type": "stream",
     "text": [
      "[(1., 2., 3.) (1., 3., 4.)]\n"
     ]
    },
    {
     "data": {
      "text/plain": [
       "array([(1., 2., 3.), (1., 3., 4.), (4., 4., 2.)],\n",
       "      dtype=[('l1r', '<f8'), ('l2r', '<f8'), ('l3r', '<f8')])"
      ]
     },
     "execution_count": 13,
     "metadata": {},
     "output_type": "execute_result"
    }
   ],
   "source": [
    "## Create new data type to hold a tuple in each element of the array (makes adding elements easier)\n",
    "##length 1 ratio, length 2 ratio, length 3 ratio\n",
    "dt = np.dtype([('l1r', np.float64), ('l2r', np.float64), ('l3r', np.float64)])\n",
    "\n",
    "## Test dt to make sure it works as expected\n",
    "\n",
    "test = np.array([(1,2,3), (1,3,4)], dtype = dt)\n",
    "\n",
    "print(test)\n",
    "np.append(test, np.array([(4.,4.,2.)], dtype = dt))\n"
   ]
  },
  {
   "cell_type": "code",
   "execution_count": 14,
   "id": "012779f2",
   "metadata": {
    "execution": {
     "iopub.execute_input": "2025-04-10T15:52:14.653184Z",
     "iopub.status.busy": "2025-04-10T15:52:14.652780Z",
     "iopub.status.idle": "2025-04-10T15:52:14.809447Z",
     "shell.execute_reply": "2025-04-10T15:52:14.808575Z"
    }
   },
   "outputs": [],
   "source": [
    "## Find all possible ratio combos between the three stages, put it in an np array of tuples\n",
    "ratio_list = np.array([], dtype=dt )\n",
    "\n",
    "for i in l1_ratio:\n",
    "    for j in l2_ratio:\n",
    "        if(i+j > 1):\n",
    "            continue\n",
    "        else:\n",
    "            ratio_list = np.append(ratio_list, np.array([(i, j, 1-i-j)], dtype = dt)) \n",
    "    \n",
    "    \n",
    "    "
   ]
  },
  {
   "cell_type": "code",
   "execution_count": 15,
   "id": "10693e02",
   "metadata": {
    "execution": {
     "iopub.execute_input": "2025-04-10T15:52:14.814176Z",
     "iopub.status.busy": "2025-04-10T15:52:14.813704Z",
     "iopub.status.idle": "2025-04-10T15:52:14.862879Z",
     "shell.execute_reply": "2025-04-10T15:52:14.861898Z"
    }
   },
   "outputs": [
    {
     "name": "stdout",
     "output_type": "stream",
     "text": [
      "[[1.   1.   8.  ]\n",
      " [1.   1.09 7.91]\n",
      " [1.   1.18 7.82]\n",
      " ...\n",
      " [8.91 1.   0.09]\n",
      " [8.91 1.09 0.  ]\n",
      " [9.   1.   0.  ]] \n",
      "\n",
      "(4005, 3)\n"
     ]
    }
   ],
   "source": [
    "## convert the np array of tuples to a more useful np array of 3 columns and each row representing a tuple of \n",
    "## the ratios\n",
    "ratio_list_converted = np.array([])\n",
    "for i in ratio_list:\n",
    "    ratio_list_converted = np.append(ratio_list_converted, np.array([[i[0], i[1], i[2]]]))\n",
    "    \n",
    "ratio_list_converted = np.reshape(ratio_list_converted, (-1, 3)).astype(np.float64)\n",
    "\n",
    "##np.set_printoptions(threshold=np.inf) - to see ENTIRE list\n",
    "print(np.round(ratio_list_converted*10, 2), \"\\n\")\n",
    "print(ratio_list_converted.shape)\n",
    "\n",
    "## 4005 different combinations!"
   ]
  },
  {
   "cell_type": "code",
   "execution_count": 16,
   "id": "39f25f3e",
   "metadata": {
    "execution": {
     "iopub.execute_input": "2025-04-10T15:52:14.867762Z",
     "iopub.status.busy": "2025-04-10T15:52:14.867332Z",
     "iopub.status.idle": "2025-04-10T15:52:14.872617Z",
     "shell.execute_reply": "2025-04-10T15:52:14.871642Z"
    }
   },
   "outputs": [],
   "source": [
    "##now we calculate masses\n",
    "\n",
    "launch_weights = 0.04 * (10 * ratio_list_converted * meters_to_inches) * diameter * diameter + payload ## lbs \n",
    "\n",
    "final_masses = launch_weights*.22 + payload ## after losing the propellant"
   ]
  },
  {
   "cell_type": "code",
   "execution_count": 17,
   "id": "bfb023d4",
   "metadata": {
    "execution": {
     "iopub.execute_input": "2025-04-10T15:52:14.876976Z",
     "iopub.status.busy": "2025-04-10T15:52:14.876481Z",
     "iopub.status.idle": "2025-04-10T15:52:14.882483Z",
     "shell.execute_reply": "2025-04-10T15:52:14.881285Z"
    }
   },
   "outputs": [
    {
     "name": "stdout",
     "output_type": "stream",
     "text": [
      "[2 9]\n"
     ]
    }
   ],
   "source": [
    "test1 = np.array([[0, 2], [4,5]])\n",
    "print(np.sum(test1, axis = 1))"
   ]
  },
  {
   "cell_type": "code",
   "execution_count": 18,
   "id": "60630dc7",
   "metadata": {
    "execution": {
     "iopub.execute_input": "2025-04-10T15:52:14.887396Z",
     "iopub.status.busy": "2025-04-10T15:52:14.887069Z",
     "iopub.status.idle": "2025-04-10T15:52:14.897016Z",
     "shell.execute_reply": "2025-04-10T15:52:14.896041Z"
    }
   },
   "outputs": [
    {
     "name": "stdout",
     "output_type": "stream",
     "text": [
      "(4005, 3)\n",
      "[6.20321817 5.89202911 5.61057066 ... 3.08482134 3.005873   3.06709893]\n",
      "[6.20321817 5.89202911 5.61057066 ... 3.08482134 3.005873   3.06709893]\n",
      "6.203218167606256\n",
      "1.098353484033931\n",
      "[0.14055246 0.15221389 0.16406808 ... 1.50927547 1.77629237 1.69950617]\n",
      "[0.14055246 0.15221389 0.16406808 ... 1.50927547 1.77629237 1.69950617]\n",
      "3.7181813101612256\n",
      "0.1405524571148863\n",
      "[4.04122596 4.03622237 4.03111849 ... 1.07186552 0.81967213 0.81967213]\n",
      "[4.04122596 4.03622237 4.03111849 ... 1.07186552 0.81967213 0.81967213]\n",
      "4.0412259574427365\n",
      "0.819672131147541\n"
     ]
    }
   ],
   "source": [
    "## now mass fractions - m0/mf\n",
    "\n",
    "stage_1_mf = np.sum(launch_weights, axis = 1)/(np.sum(launch_weights[:, 1:2], axis=1) + final_masses[:, 0])\n",
    "\n",
    "stage_2_mf = np.sum(launch_weights[:, 1:2], axis = 1)/(launch_weights[:, 2] + final_masses[:, 1])\n",
    "\n",
    "stage_3_mf = launch_weights[:, 2]/final_masses[:, 2]\n",
    "\n",
    "## Calculate mass fractions by taking initial launch weight / final masses of the lowest stage\n",
    "\n",
    "mass_fractions = np.stack((stage_1_mf, stage_2_mf, stage_3_mf), axis = 1)\n",
    "\n",
    "print(mass_fractions.shape)\n",
    "\n",
    "print(mass_fractions[:, 0])\n",
    "print(stage_1_mf)\n",
    "print(np.max(mass_fractions[:,0]))\n",
    "print(np.min(mass_fractions[:,0]))\n",
    "\n",
    "print(mass_fractions[:, 1])\n",
    "print(stage_2_mf)\n",
    "print(np.max(mass_fractions[:,1]))\n",
    "print(np.min(mass_fractions[:,1]))\n",
    "\n",
    "print(mass_fractions[:, 2])\n",
    "print(stage_3_mf)\n",
    "print(np.max(mass_fractions[:,2]))\n",
    "print(np.min(mass_fractions[:,2]))\n",
    "\n",
    "\n",
    "## Based on the maxes and minimums, there are mass fractions that fall below our restricted range \n",
    "## ex. 1.25 > min for all stages' mass fraction \n",
    "\n"
   ]
  },
  {
   "cell_type": "code",
   "execution_count": 19,
   "id": "0ea9f6af",
   "metadata": {},
   "outputs": [
    {
     "name": "stdout",
     "output_type": "stream",
     "text": [
      "[False False False ... False False False] (4005,)\n"
     ]
    }
   ],
   "source": [
    "## Logic to find rows that are out of the domain\n",
    "\n",
    "acceptable_rows = (mass_fractions[:, 0] >= 1.25) & (mass_fractions[:, 1] >= 1.25) & (mass_fractions[:, 2] >= 1.25)\n",
    "\n",
    "print(acceptable_rows, acceptable_rows.shape)"
   ]
  },
  {
   "cell_type": "code",
   "execution_count": 20,
   "id": "d38e0d0f",
   "metadata": {},
   "outputs": [
    {
     "name": "stdout",
     "output_type": "stream",
     "text": [
      "(1374, 3)\n",
      "2631\n"
     ]
    }
   ],
   "source": [
    "## now remove rows with mass fractions < 1.25\n",
    "\n",
    "mass_fractions = mass_fractions[acceptable_rows]\n",
    "\n",
    "print(mass_fractions.shape)\n",
    "print(acceptable_rows.shape[0]-mass_fractions.shape[0])\n",
    "\n",
    "## 2631 possible options removed\n"
   ]
  },
  {
   "cell_type": "code",
   "execution_count": 26,
   "id": "cbdffc0f",
   "metadata": {
    "execution": {
     "iopub.execute_input": "2025-04-10T15:52:14.901190Z",
     "iopub.status.busy": "2025-04-10T15:52:14.900784Z",
     "iopub.status.idle": "2025-04-10T15:52:14.905640Z",
     "shell.execute_reply": "2025-04-10T15:52:14.904994Z"
    }
   },
   "outputs": [
    {
     "name": "stdout",
     "output_type": "stream",
     "text": [
      "[1168.14232604 1134.75584277 1101.81791164 ... 2676.98063897 2725.98546348\n",
      " 2775.98982949]\n",
      "2775.9898294891173\n",
      "FIRST:  [1168.14232604 1134.75584277 1101.81791164 ... 2676.98063897 2725.98546348\n",
      " 2775.98982949]\n",
      "SECOND:  [1168.14232604 1134.75584277 1101.81791164 ... 2676.98063897 2725.98546348\n",
      " 2775.98982949]\n",
      "[1168.14232604 1134.75584277 1101.81791164 ... 2676.98063897 2725.98546348\n",
      " 2775.98982949]\n"
     ]
    }
   ],
   "source": [
    "## now delta vs\n",
    "\n",
    "delta_v = np.log(mass_fractions) * v_eq\n",
    "print(delta_v[:, 0])\n",
    "print(np.max(delta_v[:,0]))\n",
    "print(\"FIRST: \", delta_v[:, 0])\n",
    "print(\"SECOND: \", delta_v[:, 0])\n",
    "\n",
    "print(delta_v[:, 0])\n",
    "\n",
    "## note - there will be negative delta_vs, but we ignore those in the final output\n",
    "\n",
    "## and quickly sum for total delta vs\n",
    "delta_v_three = delta_v ## all three, to check negative\n",
    "delta_v = np.sum(delta_v, axis = 1)\n",
    "\n"
   ]
  },
  {
   "cell_type": "code",
   "execution_count": 27,
   "id": "d6cb09de",
   "metadata": {
    "execution": {
     "iopub.execute_input": "2025-04-10T15:52:14.909750Z",
     "iopub.status.busy": "2025-04-10T15:52:14.909441Z",
     "iopub.status.idle": "2025-04-10T15:52:14.915742Z",
     "shell.execute_reply": "2025-04-10T15:52:14.914806Z"
    }
   },
   "outputs": [
    {
     "name": "stdout",
     "output_type": "stream",
     "text": [
      "5209.8135273267835\n",
      "971\n",
      "^ Best: [1520.35371389 1468.65129159 2220.80852185]\n",
      "4125.9887101309005\n",
      "387\n",
      "^ Worst: [ 566.11753964 2931.62055771  628.25061278]\n",
      "[1.85917294 1.82037589 2.47400373]\n",
      "[1520.35371389 1468.65129159 2220.80852185]\n"
     ]
    }
   ],
   "source": [
    "## Now find best performing mass fractions\n",
    "\n",
    "print(np.max(delta_v))\n",
    "print(np.argmax(delta_v))\n",
    "print(\"^ Best:\", delta_v_three[np.argmax(delta_v), :])\n",
    "print(np.min(delta_v))\n",
    "print(np.argmin(delta_v))\n",
    "print(\"^ Worst:\", delta_v_three[np.argmin(delta_v), :])\n",
    "\n",
    "\n",
    "best_performing_index = np.argmax(delta_v)\n",
    "\n",
    "print(mass_fractions[best_performing_index, :])\n",
    "print(delta_v_three[best_performing_index, :]) ## nonnegative!\n"
   ]
  },
  {
   "cell_type": "code",
   "execution_count": 28,
   "id": "43aeb242",
   "metadata": {
    "execution": {
     "iopub.execute_input": "2025-04-10T15:52:14.919283Z",
     "iopub.status.busy": "2025-04-10T15:52:14.918790Z",
     "iopub.status.idle": "2025-04-10T15:52:14.939359Z",
     "shell.execute_reply": "2025-04-10T15:52:14.938667Z"
    }
   },
   "outputs": [
    {
     "name": "stdout",
     "output_type": "stream",
     "text": [
      "Top 10 delta-v values:\n",
      "5209.8135273267835\n",
      "5209.612889425562\n",
      "5209.512036779421\n",
      "5208.940076122227\n",
      "5208.676209361527\n",
      "5207.822975674914\n",
      "5207.599325982592\n",
      "5207.464819570723\n",
      "5207.271369074668\n",
      "5207.210456091979\n",
      "\n",
      "Top 100 delta-v values and their corresponding mass fractions:\n",
      "5209.8135273267835\n",
      "[1.85917294 1.82037589 2.47400373]\n",
      "5209.612889425562\n",
      "[1.83649794 1.84270102 2.47400373]\n",
      "5209.512036779421\n",
      "[1.88241487 1.79767887 2.47400373]\n",
      "5208.940076122227\n",
      "[1.81436938 1.86466333 2.47400373]\n",
      "5208.676209361527\n",
      "[1.90624525 1.77460059 2.47400373]\n",
      "5207.822975674914\n",
      "[1.79276775 1.88627159 2.47400373]\n",
      "5207.599325982592\n",
      "[1.87580082 1.86841486 2.38687102]\n",
      "5207.464819570723\n",
      "[1.89946299 1.84503824 2.38687102]\n",
      "5207.271369074668\n",
      "[1.93068674 1.75113136 2.47400373]\n",
      "5207.210456091979\n",
      "[1.85272093 1.89139023 2.38687102]\n",
      "5206.802819746003\n",
      "[1.84283726 1.77654513 2.55437503]\n",
      "5206.772511445591\n",
      "[1.92372975 1.82124976 2.38687102]\n",
      "5206.743372429091\n",
      "[1.8205566  1.79824356 2.55437503]\n",
      "5206.381010368192\n",
      "[1.86567004 1.75450121 2.55437503]\n",
      "5206.330174527707\n",
      "[1.83020209 1.91397458 2.38687102]\n",
      "5206.287583074582\n",
      "[1.77167443 1.90753429 2.47400373]\n",
      "5206.230742093804\n",
      "[1.79880826 1.81960456 2.55437503]\n",
      "5205.485278839156\n",
      "[1.94862459 1.79703844 2.38687102]\n",
      "5205.4478013332455\n",
      "[1.88907572 1.73210347 2.55437503]\n",
      "5205.291104739544\n",
      "[1.7775734  1.84063594 2.55437503]\n",
      "5205.260135579165\n",
      "[1.95576313 1.72726117 2.47400373]\n",
      "5204.98819715031\n",
      "[1.80822409 1.93617782 2.38687102]\n",
      "5204.358154707378\n",
      "[1.75107169 1.92845965 2.47400373]\n",
      "5203.970789720324\n",
      "[1.91307612 1.70934334 2.55437503]\n",
      "5203.948893441127\n",
      "[1.75683404 1.86134526 2.55437503]\n",
      "5203.563037063259\n",
      "[1.97417219 1.77239291 2.38687102]\n",
      "5203.212181454394\n",
      "[1.78676766 1.95800952 2.38687102]\n",
      "5202.602159440265\n",
      "[1.98149949 1.70297964 2.47400373]\n",
      "5202.226938161026\n",
      "[1.73657305 1.88173987 2.55437503]\n",
      "5202.0573480754465\n",
      "[1.73094263 1.94905565 2.47400373]\n",
      "5201.915100367458\n",
      "[1.93769422 1.68621194 2.55437503]\n",
      "5201.02789790801\n",
      "[1.76581447 1.97947892 2.38687102]\n",
      "5200.962442968348\n",
      "[2.00039858 1.74730138 2.38687102]\n",
      "5200.1465922908355\n",
      "[1.71677405 1.9018269  2.55437503]\n",
      "5199.709436355183\n",
      "[1.80488962 1.75748913 2.62874254]\n",
      "5199.666520584141\n",
      "[1.82678615 1.73639282 2.62874254]\n",
      "5199.4063482460415\n",
      "[1.71127108 1.96932999 2.47400373]\n",
      "5199.31776743345\n",
      "[1.78351179 1.77827093 2.62874254]\n",
      "5199.2538253950825\n",
      "[2.00792223 1.67827607 2.47400373]\n",
      "5199.243149029568\n",
      "[1.96295416 1.66270012 2.55437503]\n",
      "5199.162699637436\n",
      "[1.84922049 1.71497481 2.62874254]\n",
      "5198.7989761126355\n",
      "[1.91682273 1.89721772 2.29208619]\n",
      "5198.709494381415\n",
      "[1.89272882 1.92129864 2.29208619]\n",
      "5198.516088475329\n",
      "[1.76263445 1.7987452  2.62874254]\n",
      "5198.459384436533\n",
      "[1.74534702 2.00059496 2.38687102]\n",
      "5198.306868662634\n",
      "[1.94153797 1.87269073 2.29208619]\n",
      "5198.169752433242\n",
      "[1.87221271 1.69322768 2.62874254]\n",
      "5198.075223761157\n",
      "[1.86923309 1.94494558 2.29208619]\n",
      "5197.727847379594\n",
      "[1.69742143 1.92161324 2.55437503]\n",
      "5197.636561759784\n",
      "[2.02733118 1.72175163 2.38687102]\n",
      "5197.327368148302\n",
      "[1.74224022 1.81891872 2.62874254]\n",
      "5197.193419954127\n",
      "[1.96689888 1.84770518 2.29208619]\n",
      "5196.93027697654\n",
      "[1.84631355 1.96817013 2.29208619]\n",
      "5196.657385667741\n",
      "[1.89578387 1.67114379 2.62874254]\n",
      "5196.424982487049\n",
      "[1.69204164 1.98929016 2.47400373]\n",
      "5195.914377552914\n",
      "[1.98888139 1.63879842 2.55437503]\n",
      "5195.773095702305\n",
      "[1.72231253 1.83879807 2.62874254]\n",
      "5195.5290859685165\n",
      "[1.7253486  2.0213663  2.38687102]\n",
      "5195.415629939565\n",
      "[1.99293111 1.82224808 2.29208619]\n",
      "5195.306315425669\n",
      "[1.82394926 1.99098354 2.29208619]\n",
      "5195.167918977165\n",
      "[2.03505917 1.65313933 2.47400373]\n",
      "5194.989437324952\n",
      "[1.67850026 1.94110559 2.55437503]\n",
      "5194.593043135989\n",
      "[1.91995613 1.64871526 2.62874254]\n",
      "5193.873395731766\n",
      "[1.70283555 1.85838963 2.62874254]\n",
      "5193.534491702153\n",
      "[2.05499889 1.69573099 2.38687102]\n",
      "5193.232760870161\n",
      "[1.80212027 2.01339661 2.29208619]\n",
      "5193.131824365241\n",
      "[1.67323955 2.0089434  2.47400373]\n",
      "5192.926917784385\n",
      "[2.01966166 1.79630595 2.29208619]\n",
      "5192.257980713631\n",
      "[1.70580328 2.04180131 2.38687102]\n",
      "5191.948933146668\n",
      "[1.65999626 1.96031047 2.55437503]\n",
      "5191.9416934506335\n",
      "[1.94475276 1.62593395 2.62874254]\n",
      "5191.884957077085\n",
      "[2.01550269 1.61449705 2.55437503]\n",
      "5191.647132403748\n",
      "[1.68379415 1.87769961 2.62874254]\n",
      "5190.736985524647\n",
      "[1.78080761 2.0354198  2.29208619]\n",
      "5190.293251030063\n",
      "[2.06293967 1.62755794 2.47400373]\n",
      "5189.676746948856\n",
      "[2.04711901 1.7698648  2.29208619]\n",
      "5189.544288427156\n",
      "[1.65485072 2.02829673 2.47400373]\n",
      "5189.363071078997\n",
      "[1.78948999 1.71999356 2.69775477]\n",
      "5189.249914167712\n",
      "[1.81101223 1.69947455 2.69775477]\n",
      "5189.112004271137\n",
      "[1.6651739  1.89673404 2.62874254]\n",
      "5189.059745101429\n",
      "[1.76847328 1.74021882 2.69775477]\n",
      "5188.695587847447\n",
      "[1.83305848 1.67865533 2.69775477]\n",
      "5188.665694630894\n",
      "[1.68669583 2.0619081  2.38687102]\n",
      "5188.665593210898\n",
      "[1.97019828 1.60279147 2.62874254]\n",
      "5188.622829327031\n",
      "[1.6418958  1.97923418 2.55437503]\n",
      "5188.600940274325\n",
      "[2.08343224 1.66922633 2.38687102]\n",
      "5188.363015001701\n",
      "[1.7479445  1.76015658 2.69775477]\n",
      "5187.84448309379\n",
      "[1.75999316 2.05706318 2.29208619]\n",
      "5187.673658034642\n",
      "[1.8556481  1.65752927 2.69775477]\n",
      "5187.294478344178\n",
      "[1.72788685 1.77981293 2.69775477]\n",
      "5187.107454602716\n",
      "[2.04284631 1.5897859  2.55437503]\n",
      "5186.2846306550155\n",
      "[1.64696097 1.91549878 2.62874254]\n",
      "5186.155788345764\n",
      "[1.87880143 1.63608953 2.69775477]\n",
      "5185.874366239219\n",
      "[1.70828431 1.79919379 2.69775477]\n",
      "5185.678716447396\n",
      "[1.63686169 2.04735697 2.47400373]\n",
      "5185.610201731059\n",
      "[2.07533322 1.7429101  2.29208619]\n",
      "5185.026622585903\n",
      "[1.62418581 1.99788285 2.55437503]\n",
      "5184.770605363652\n",
      "[1.66801171 2.0816945  2.38687102]\n",
      "5184.7240221988795\n",
      "[1.99631849 1.57927916 2.62874254]\n",
      "5184.579022964186\n",
      "[1.73965965 2.07833651 2.29208619]\n"
     ]
    }
   ],
   "source": [
    "# Find the indices that would sort delta_v in descending order\n",
    "sorted_indices = np.argsort(delta_v)[::-1]\n",
    "\n",
    "# Select how many top-performing configurations you want to see\n",
    "top_n = 100\n",
    "\n",
    "# Print top 10 delta-v values\n",
    "print(\"Top 10 delta-v values:\")\n",
    "for idx in sorted_indices[:10]:\n",
    "    print(delta_v[idx])\n",
    "\n",
    "# Print top 100 delta-v values and their corresponding mass fractions\n",
    "print(\"\\nTop 100 delta-v values and their corresponding mass fractions:\")\n",
    "for idx in sorted_indices[:top_n]:\n",
    "    print(delta_v[idx])\n",
    "    print(mass_fractions[idx])"
   ]
  },
  {
   "cell_type": "code",
   "execution_count": 29,
   "id": "0795ce9f",
   "metadata": {},
   "outputs": [
    {
     "data": {
      "image/png": "[encoded data removed]",
      "text/plain": [
       "<Figure size 640x480 with 1 Axes>"
      ]
     },
     "metadata": {},
     "output_type": "display_data"
    }
   ],
   "source": [
    "## Graph all delta vs to find where local maximums are\n",
    "\n",
    "import matplotlib.pyplot as plt\n",
    "\n",
    "x = np.arange(delta_v.shape[0])\n",
    "y = delta_v\n",
    "\n",
    "# Create the plot\n",
    "plt.plot(x, y)\n",
    "\n",
    "# Add labels and title\n",
    "plt.xlabel(\"Index\")\n",
    "plt.ylabel(\"Delta V\")\n",
    "plt.title(\"All Possible Delta Vs - 3 Stage Booster\")\n",
    "\n",
    "# Display the plot\n",
    "plt.show()"
   ]
  },
  {
   "cell_type": "code",
   "execution_count": 30,
   "id": "3c88bda9",
   "metadata": {},
   "outputs": [
    {
     "name": "stdout",
     "output_type": "stream",
     "text": [
      "18\n"
     ]
    },
    {
     "data": {
      "image/png": "[encoded data removed]",
      "text/plain": [
       "<Figure size 640x480 with 1 Axes>"
      ]
     },
     "metadata": {},
     "output_type": "display_data"
    }
   ],
   "source": [
    "## Restrict domain to find peaks\n",
    "\n",
    "end = 25 ## end of domain\n",
    "\n",
    "x = np.arange(delta_v.shape[0])[0:end]\n",
    "y = delta_v[0:end]\n",
    "\n",
    "print(np.argmax(delta_v[0:end+2]))\n",
    "\n",
    "## based on this, peak is potentially about every 18 indices\n",
    "peak = 18\n",
    "\n",
    "# Create the plot\n",
    "plt.plot(x, y)\n",
    "\n",
    "# Add labels and title\n",
    "plt.xlabel(\"Index\")\n",
    "plt.ylabel(\"Delta V\")\n",
    "plt.title(\"One Peak of Delta Vs - 3 Stage Booster\")\n",
    "\n",
    "# Display the plot\n",
    "plt.show()"
   ]
  },
  {
   "cell_type": "code",
   "execution_count": 31,
   "id": "db18967e",
   "metadata": {},
   "outputs": [
    {
     "name": "stdout",
     "output_type": "stream",
     "text": [
      "[  18.   39.   60.   82.  104.  149.  173.  197.  221.  246.  271.  296.\n",
      "  322.  348.  374.  375.  402.  428.  454.  480.  505.  530.  555.  580.\n",
      "  604.  649.  673.  695.  717.  739.  761.  782.  822.  842.  861.  899.\n",
      "  918.  936.  971.  988. 1004. 1037. 1052. 1082. 1110. 1125. 1151. 1175.\n",
      " 1210. 1231. 1250. 1277. 1301. 1327. 1351.]\n",
      "[5046.51544836 5052.38517485 5058.17075896 5063.86798965 5069.47245265\n",
      " 5080.38433202 5086.13520277 5091.75242585 5097.26031966 5102.65331222\n",
      " 5107.92554636 5113.07086227 5118.08277889 5122.9544738  5127.67876172\n",
      " 5127.8653978  5132.95798001 5137.89976487 5142.68283577 5147.29883932\n",
      " 5151.73895618 5155.99386981 5160.05373252 5163.99644545 5168.27959424\n",
      " 5174.12498676 5179.81469421 5183.18063046 5186.28463066 5189.11200427\n",
      " 5191.94893315 5194.98943732 5200.14659229 5202.22693816 5203.94889344\n",
      " 5206.23074209 5207.82297567 5208.94007612 5209.81352733 5209.51203678\n",
      " 5208.67620936 5206.77251145 5205.48527884 5200.96244297 5193.5344917\n",
      " 5189.67674695 5180.66750767 5167.88693682 5143.71787404 5123.65468121\n",
      " 5097.71702543 5054.0743787  4993.80561761 4892.30984378 4707.17266197]\n",
      "5046.5154483583165\n"
     ]
    }
   ],
   "source": [
    "## Methodology:\n",
    "## Look through \"frames\" of the data every 20 indices, find the maximum within that frame\n",
    "## Collect all the maximums of each frame, graph them compare to the full graph (as a check)\n",
    "\n",
    "frame_length = 25 ## adjusted with iterations until curve smoothed out - more or less is worse\n",
    "\n",
    "local_max_indices = np.array([])\n",
    "local_maxes = np.array([])\n",
    "\n",
    "frame_start = 0\n",
    "\n",
    "while(frame_start < len(delta_v)):\n",
    "    local_max_indices = np.append(local_max_indices, np.argmax(delta_v[frame_start:frame_start + frame_length])+frame_start)\n",
    "    local_maxes = np.append(local_maxes, np.max(delta_v[frame_start:frame_start + frame_length]))\n",
    "    frame_start += frame_length\n",
    "    \n",
    "print(local_max_indices)\n",
    "print(local_maxes)\n",
    "print(delta_v[18]) ## verification that indices match to delta_v - correct!"
   ]
  },
  {
   "cell_type": "code",
   "execution_count": 32,
   "id": "b1be6020",
   "metadata": {},
   "outputs": [
    {
     "data": {
      "image/png": "[encoded data removed]",
      "text/plain": [
       "<Figure size 640x480 with 1 Axes>"
      ]
     },
     "metadata": {},
     "output_type": "display_data"
    }
   ],
   "source": [
    "## Graph maximums vs their indices\n",
    "\n",
    "# Create the plot\n",
    "plt.plot(local_max_indices, local_maxes)\n",
    "\n",
    "\n",
    "## Domain: 18 -> 1351\n",
    "## 55 total different \"optimums\"\n",
    "\n",
    "# Add labels and title\n",
    "plt.xlabel(\"Index\")\n",
    "plt.ylabel(\"Delta V\")\n",
    "plt.title(\"Optimized Delta Vs - 3 Stage Booster\")\n",
    "\n",
    "# Display the plot\n",
    "plt.show()\n"
   ]
  },
  {
   "cell_type": "code",
   "execution_count": 33,
   "id": "6fae1afe",
   "metadata": {},
   "outputs": [
    {
     "name": "stdout",
     "output_type": "stream",
     "text": [
      "[[1.29161091 2.14924115 2.82187178]\n",
      " [1.30278576 2.13591334 2.82187178]\n",
      " [1.31415567 2.12243645 2.82187178]\n",
      " [1.32572578 2.10880795 2.82187178]\n",
      " [1.33750143 2.09502528 2.82187178]\n",
      " [1.36169166 2.06698681 2.82187178]\n",
      " [1.35822735 2.12217427 2.76197007]\n",
      " [1.37059016 2.1078561  2.76197007]\n",
      " [1.38318009 2.09336772 2.76197007]\n",
      " [1.39600346 2.07870609 2.76197007]\n",
      " [1.40906682 2.06386807 2.76197007]\n",
      " [1.42237698 2.04885046 2.76197007]\n",
      " [1.435941   2.03364998 2.76197007]\n",
      " [1.4497662  2.01826327 2.76197007]\n",
      " [1.46386021 2.00268689 2.76197007]\n",
      " [1.4458399  2.0760701  2.69775477]\n",
      " [1.45985731 2.06041132 2.69775477]\n",
      " [1.47414917 2.04455268 2.69775477]\n",
      " [1.48872363 2.02849033 2.69775477]\n",
      " [1.50358916 2.01222033 2.69775477]\n",
      " [1.51875455 1.99573861 2.69775477]\n",
      " [1.53422899 1.97904102 2.69775477]\n",
      " [1.550022   1.96212329 2.69775477]\n",
      " [1.54553473 2.02273143 2.62874254]\n",
      " [1.56156258 2.00547074 2.62874254]\n",
      " [1.61658508 1.89216154 2.69775477]\n",
      " [1.61170475 1.95224176 2.62874254]\n",
      " [1.62914214 1.9339995  2.62874254]\n",
      " [1.64696097 1.91549878 2.62874254]\n",
      " [1.6651739  1.89673404 2.62874254]\n",
      " [1.65999626 1.96031047 2.55437503]\n",
      " [1.67850026 1.94110559 2.55437503]\n",
      " [1.71677405 1.9018269  2.55437503]\n",
      " [1.73657305 1.88173987 2.55437503]\n",
      " [1.75683404 1.86134526 2.55437503]\n",
      " [1.79880826 1.81960456 2.55437503]\n",
      " [1.79276775 1.88627159 2.47400373]\n",
      " [1.81436938 1.86466333 2.47400373]\n",
      " [1.85917294 1.82037589 2.47400373]\n",
      " [1.88241487 1.79767887 2.47400373]\n",
      " [1.90624525 1.77460059 2.47400373]\n",
      " [1.92372975 1.82124976 2.38687102]\n",
      " [1.94862459 1.79703844 2.38687102]\n",
      " [2.00039858 1.74730138 2.38687102]\n",
      " [2.05499889 1.69573099 2.38687102]\n",
      " [2.04711901 1.7698648  2.29208619]\n",
      " [2.10433602 1.71542673 2.29208619]\n",
      " [2.16484343 1.65881053 2.29208619]\n",
      " [2.21966624 1.67772114 2.18859493]\n",
      " [2.28709399 1.61498833 2.18859493]\n",
      " [2.35874665 1.54944954 2.18859493]\n",
      " [2.42397812 1.5621296  2.0751399 ]\n",
      " [2.49292017 1.57698418 1.95020942]\n",
      " [2.6697153  1.4128352  1.95020942]\n",
      " [2.85811724 1.31707652 1.8119697 ]]\n",
      "[1.29161091 2.14924115 2.82187178]\n",
      "[[1.         2.63636364 6.36363636]\n",
      " [1.         4.54545455 4.45454545]\n",
      " [1.         6.45454545 2.54545455]\n",
      " [1.         8.45454545 0.54545455]\n",
      " [1.09090909 2.36363636 6.54545455]\n",
      " [1.09090909 6.45454545 2.45454545]\n",
      " [1.09090909 8.63636364 0.27272727]\n",
      " [1.18181818 2.81818182 6.        ]\n",
      " [1.18181818 5.         3.81818182]\n",
      " [1.18181818 7.27272727 1.54545455]\n",
      " [1.27272727 1.63636364 7.09090909]\n",
      " [1.27272727 3.90909091 4.81818182]\n",
      " [1.27272727 6.27272727 2.45454545]\n",
      " [1.27272727 8.63636364 0.09090909]\n",
      " [1.36363636 3.18181818 5.45454545]\n",
      " [1.36363636 3.27272727 5.36363636]\n",
      " [1.36363636 5.72727273 2.90909091]\n",
      " [1.36363636 8.09090909 0.54545455]\n",
      " [1.45454545 2.72727273 5.81818182]\n",
      " [1.45454545 5.09090909 3.45454545]\n",
      " [1.45454545 7.36363636 1.18181818]\n",
      " [1.54545455 2.         6.45454545]\n",
      " [1.54545455 4.27272727 4.18181818]\n",
      " [1.54545455 6.54545455 1.90909091]\n",
      " [1.63636364 1.18181818 7.18181818]\n",
      " [1.63636364 5.27272727 3.09090909]\n",
      " [1.63636364 7.45454545 0.90909091]\n",
      " [1.72727273 2.         6.27272727]\n",
      " [1.72727273 4.         4.27272727]\n",
      " [1.72727273 6.         2.27272727]\n",
      " [1.72727273 8.         0.27272727]\n",
      " [1.81818182 2.54545455 5.63636364]\n",
      " [1.81818182 6.18181818 2.        ]\n",
      " [1.81818182 8.         0.18181818]\n",
      " [1.90909091 2.45454545 5.63636364]\n",
      " [1.90909091 5.90909091 2.18181818]\n",
      " [1.90909091 7.63636364 0.45454545]\n",
      " [2.         2.09090909 5.90909091]\n",
      " [2.         5.27272727 2.72727273]\n",
      " [2.         6.81818182 1.18181818]\n",
      " [2.09090909 1.18181818 6.72727273]\n",
      " [2.09090909 4.18181818 3.72727273]\n",
      " [2.09090909 5.54545455 2.36363636]\n",
      " [2.18181818 1.27272727 6.54545455]\n",
      " [2.18181818 3.81818182 4.        ]\n",
      " [2.18181818 5.18181818 2.63636364]\n",
      " [2.18181818 7.54545455 0.27272727]\n",
      " [2.27272727 2.81818182 4.90909091]\n",
      " [2.27272727 6.         1.72727273]\n",
      " [2.36363636 1.09090909 6.54545455]\n",
      " [2.36363636 2.81818182 4.81818182]\n",
      " [2.36363636 5.27272727 2.36363636]\n",
      " [2.36363636 7.45454545 0.18181818]\n",
      " [2.45454545 3.09090909 4.45454545]\n",
      " [2.45454545 5.27272727 2.27272727]]\n"
     ]
    }
   ],
   "source": [
    "## now collect the mass fractions and lengths for each optimal delta v using the indices\n",
    "\n",
    "optimized_mass_fractions = np.array([]).reshape(0,3)\n",
    "optimized_length_ratios = np.array([]).reshape(0,3)\n",
    "\n",
    "\n",
    "for i in local_max_indices:\n",
    "    optimized_mass_fractions = np.vstack((optimized_mass_fractions, mass_fractions[int(i), :])) ## in order!\n",
    "    optimized_length_ratios = np.vstack((optimized_length_ratios, ratio_list_converted[int(i), :]))\n",
    "\n",
    "optimized_lengths = optimized_length_ratios*10 ## meters    \n",
    "\n",
    "print(optimized_mass_fractions)\n",
    "\n",
    "print(mass_fractions[18,:]) ## used to make sure order was correct\n",
    "\n",
    "print(optimized_lengths)"
   ]
  },
  {
   "cell_type": "code",
   "execution_count": 35,
   "id": "75dfd883",
   "metadata": {},
   "outputs": [
    {
     "name": "stdout",
     "output_type": "stream",
     "text": [
      "[5046.51544836 5052.38517485 5058.17075896 5063.86798965 5069.47245265\n",
      " 5080.38433202 5086.13520277 5091.75242585 5097.26031966 5102.65331222\n",
      " 5107.92554636 5113.07086227 5118.08277889 5122.9544738  5127.67876172\n",
      " 5127.8653978  5132.95798001 5137.89976487 5142.68283577 5147.29883932\n",
      " 5151.73895618 5155.99386981 5160.05373252 5163.99644545 5168.27959424\n",
      " 5174.12498676 5179.81469421 5183.18063046 5186.28463066 5189.11200427\n",
      " 5191.94893315 5194.98943732 5200.14659229 5202.22693816 5203.94889344\n",
      " 5206.23074209 5207.82297567 5208.94007612 5209.81352733 5209.51203678\n",
      " 5208.67620936 5206.77251145 5205.48527884 5200.96244297 5193.5344917\n",
      " 5189.67674695 5180.66750767 5167.88693682 5143.71787404 5123.65468121\n",
      " 5097.71702543 5054.0743787 ]\n",
      "52\n",
      "[5046.51544836 5052.38517485 5058.17075896 5063.86798965 5069.47245265\n",
      " 5080.38433202 5086.13520277 5091.75242585 5097.26031966 5102.65331222\n",
      " 5107.92554636 5113.07086227 5118.08277889 5122.9544738  5127.67876172\n",
      " 5127.8653978  5132.95798001 5137.89976487 5142.68283577 5147.29883932\n",
      " 5151.73895618 5155.99386981 5160.05373252 5163.99644545 5168.27959424\n",
      " 5174.12498676 5179.81469421 5183.18063046 5186.28463066 5189.11200427\n",
      " 5191.94893315 5194.98943732 5200.14659229 5202.22693816 5203.94889344\n",
      " 5206.23074209 5207.82297567 5208.94007612 5209.81352733 5209.51203678\n",
      " 5208.67620936 5206.77251145 5205.48527884 5200.96244297 5193.5344917\n",
      " 5189.67674695 5180.66750767 5167.88693682 5143.71787404 5123.65468121\n",
      " 5097.71702543 5054.0743787 ]\n",
      "52\n"
     ]
    }
   ],
   "source": [
    "## Cut off the tail end to find only the highest of the delta vs\n",
    "\n",
    "print(local_maxes)\n",
    "\n",
    "## Identified tail just by reading out local_maxes - tail starts at deltav = 4895..., index\n",
    "print(len(local_maxes))\n",
    "## index of start of tail: 52\n",
    "\n",
    "tail = 52\n",
    "\n",
    "optimized_mass_fractions = optimized_mass_fractions[0:tail]\n",
    "optimized_length_ratios = optimized_length_ratios[0:tail]\n",
    "optimized_lengths = optimized_lengths[0:tail]\n",
    "local_maxes = local_maxes[0:tail]\n",
    "local_max_indices = local_max_indices[0:tail]\n",
    "print(local_maxes)\n",
    "\n",
    "\n"
   ]
  },
  {
   "cell_type": "markdown",
   "id": "c65633cc",
   "metadata": {},
   "source": [
    "## Results\n",
    "* We want to save all results to a file\n",
    "* Results we want:\n",
    "    * Best Delta V, Mass Fractions, Lengths, and Length Ratios (Real values and calculated)\n",
    "    * All optimized Delta V, Mass Fractions, Lengths, and Length Ratios\n",
    "\n",
    "### Summarizing Results:"
   ]
  },
  {
   "cell_type": "code",
   "execution_count": 36,
   "id": "ec6cf518",
   "metadata": {},
   "outputs": [
    {
     "name": "stdout",
     "output_type": "stream",
     "text": [
      "Best Delta V:  5209.8135273267835\n",
      "Best Lengths:  [2.         5.27272727 2.72727273]\n",
      "Best Length Ratios:  [0.2        0.52727273 0.27272727]\n",
      "Best Mass Fractions:  [1.85917294 1.82037589 2.47400373]\n",
      "\n",
      "------ From Real Values (Section 1) ------\n",
      "\n",
      "Unitless values.\n",
      "Max Mass Fraction\n",
      "\tFirst:  8.333333333333334 \n",
      "\tSecond:  5.88235294117647 \n",
      "\tThird:  9.900990099009901\n",
      "\n",
      "\n",
      "Units in meters per second.\n",
      "Max Delta V\n",
      " \tFirst:  5198.170601819155 \n",
      "\tSecond:  4344.240140982806 \n",
      "\tThird:  5620.766672537209 \n",
      "\n",
      "Total Delta V:  15163.17741533917\n"
     ]
    }
   ],
   "source": [
    "max_index = np.argmax(local_maxes)\n",
    "print(\"Best Delta V: \", np.max(local_maxes))\n",
    "print(\"Best Lengths: \",  optimized_lengths[max_index, :])\n",
    "print(\"Best Length Ratios: \",  optimized_length_ratios[max_index, :])\n",
    "print(\"Best Mass Fractions: \",  optimized_mass_fractions[max_index, :])\n",
    "print(\"\\n------ From Real Values (Section 1) ------\\n\")\n",
    "\n",
    "print(\n",
    "\"Unitless values.\\nMax Mass Fraction\\n\"\n",
    "    \"\\tFirst: \", max_mf1, \"\\n\\tSecond: \", max_mf2, \"\\n\\tThird: \", max_mf3)\n",
    "print(\n",
    "\"\\n\\nUnits in meters per second.\\nMax Delta V\\n\",\n",
    "    \"\\tFirst: \", np.max(deltav_first), \"\\n\\tSecond: \", np.max(deltav_second), \"\\n\\tThird: \", np.max(deltav_third),\n",
    "\"\\n\\nTotal Delta V: \", deltav_total_max)"
   ]
  },
  {
   "cell_type": "code",
   "execution_count": null,
   "id": "7252dfb0",
   "metadata": {},
   "outputs": [],
   "source": []
  }
 ],
 "metadata": {
  "kernelspec": {
   "display_name": "Python 3 (ipykernel)",
   "language": "python",
   "name": "python3"
  },
  "language_info": {
   "codemirror_mode": {
    "name": "ipython",
    "version": 3
   },
   "file_extension": ".py",
   "mimetype": "text/x-python",
   "name": "python",
   "nbconvert_exporter": "python",
   "pygments_lexer": "ipython3",
   "version": "3.11.7"
  }
 },
 "nbformat": 4,
 "nbformat_minor": 5
}
