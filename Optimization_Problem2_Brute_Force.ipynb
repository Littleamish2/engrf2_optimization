{
 "cells": [
  {
   "cell_type": "markdown",
   "id": "bc4a6c8f",
   "metadata": {},
   "source": [
    "Plan:\n",
    "* Use linspace to produce a bunch of values at some intervals\n",
    "* SMARTLY restrict values\n",
    "* Try and make it make sense\n",
    "* Code equations first!\n",
    "* Could brute force with REAL values (restrict to range) or CALCULATE values (use equations from geometry)"
   ]
  },
  {
   "cell_type": "markdown",
   "id": "5cea6a70-77ac-4260-a61c-fc9ceb49fd79",
   "metadata": {},
   "source": [
    "## Problem 2\n",
    "* Diameter - 1 Meter\n",
    "* Propulsion Stack Length - 10 Meters\n",
    "* 3 Stages, Same ISP, Solid Rocket Motors\n",
    "* 250 kg Payload\n",
    "\n",
    "\n",
    "__UNIQUE restriction:__\n",
    "* _First Stage Booster - Burns for 10 Seconds_"
   ]
  },
  {
   "cell_type": "markdown",
   "id": "82a6e748",
   "metadata": {},
   "source": [
    "## Equations\n",
    "With credit to tables from _Design of Rockets and Space Launch Vehicles_\n",
    "* Change in velocity: $$\\Delta v = v_{e}ln(\\frac{m_0}{m_f})$$\n",
    "    * $g_0$ is Earth's standard gravity at sea level. Taken to be 9.80665 $m/s^2$\n",
    "<br /><br />\n",
    "* Time to Burn Equation: $$\\Delta V = -g_0 t + v_e ln\\frac{m_0}{m_f} =-g_0 t + v_e ln(\\mu) $$\n",
    "* Mass fraction: $$\\mu = \\frac{initial\\ mass}{final\\ mass} = \\frac{m_0}{m_f} = \\frac{m_0}{m_0-m_p}$$ \n",
    "<br />\n",
    "* Total Launch Weight (Propellant and shell - NOT payload):\n",
    "$W_L = 0.04 Ld^2$\n",
    "    \n",
    "    * NOTE: lb, in, in\n",
    "    * Can be used to calculate masses instead of using values\n",
    "<br /><br />\n",
    "* Body Structure vs. Launch Weight: $$W_{Body Structure}/W_{Launch Weight} = 0.22$$\n",
    "    * Launch weight includes the propellant\n",
    "    * Combine with Total launch weight equations"
   ]
  },
  {
   "cell_type": "markdown",
   "id": "cf520ea9",
   "metadata": {},
   "source": [
    "### SM3 Mass Fractions (Mf/Mo)\n",
    "* First Stage: .376\n",
    "* Second Stage: .612\n",
    "* Third Stage: .604"
   ]
  },
  {
   "cell_type": "markdown",
   "id": "5696b2d1",
   "metadata": {},
   "source": [
    "### Range of Real Mass Fractions (Mf/Mo)\n",
    "With credit to tables from _Design of Rockets and Space Launch Vehicles_\n",
    "* First Stage: \n",
    "    * 0.0432 -> 0.1198\n",
    "* Second Stage:\n",
    "    * 0.0495 -> 0.1700\n",
    "* Third Stage:\n",
    "    * 0.0824 -> 0.1008"
   ]
  },
  {
   "cell_type": "markdown",
   "id": "b14ad54c",
   "metadata": {},
   "source": [
    "### Range of Isps\n",
    "With credit to tables from _Design of Rockets and Space Launch Vehicles_\n",
    "* 200 seconds to 250 seconds \n",
    "    * 250 seconds more applicable"
   ]
  },
  {
   "cell_type": "code",
   "execution_count": 4,
   "id": "997bf269",
   "metadata": {},
   "outputs": [],
   "source": [
    "import numpy as np\n"
   ]
  },
  {
   "cell_type": "code",
   "execution_count": 5,
   "id": "1fbd249b",
   "metadata": {},
   "outputs": [],
   "source": [
    "specific_impulse = 250 # seconds\n",
    "g = 9.80665 # m / s^2\n",
    "v_eq = g*specific_impulse\n",
    "\n",
    "meters_to_inches = 39.3700787402 ## multiply to meters\n",
    "kg_to_lbs = 2.20462\n",
    "\n",
    "payload = 250 * kg_to_lbs  ## in lbs\n"
   ]
  },
  {
   "cell_type": "markdown",
   "id": "27893e32",
   "metadata": {},
   "source": [
    "## Calculating Delta V using range of actual values"
   ]
  },
  {
   "cell_type": "code",
   "execution_count": 6,
   "id": "db63446d",
   "metadata": {},
   "outputs": [],
   "source": [
    "#m0 / mf\n",
    "mass_frac_first = 1/np.linspace(0.0400, 0.1200)\n",
    "mass_frac_second = 1/np.linspace(.0450, 0.1700) \n",
    "mass_frac_third = 1/np.linspace(.0800, 0.1010)"
   ]
  },
  {
   "cell_type": "code",
   "execution_count": 7,
   "id": "09d3ee90",
   "metadata": {},
   "outputs": [],
   "source": [
    "max_mf1 = np.max(mass_frac_first)\n",
    "max_mf2 = np.max(mass_frac_second)\n",
    "max_mf3 = np.max(mass_frac_third)"
   ]
  },
  {
   "cell_type": "code",
   "execution_count": 8,
   "id": "2d09fdbc",
   "metadata": {},
   "outputs": [],
   "source": [
    "deltav_first = np.log(mass_frac_first) * v_eq - g*10\n",
    "deltav_second = np.log(mass_frac_second) * v_eq\n",
    "deltav_third = np.log(mass_frac_third) * v_eq\n",
    "deltav_total_max = np.max(deltav_first)+np.max(deltav_second)+np.max(deltav_third)"
   ]
  },
  {
   "cell_type": "code",
   "execution_count": 9,
   "id": "587ede76",
   "metadata": {},
   "outputs": [
    {
     "name": "stdout",
     "output_type": "stream",
     "text": [
      "Unitless values.\n",
      "Max Mass Fraction\n",
      "\tFirst:  25.0 \n",
      "\tSecond:  22.22222222222222 \n",
      "\tThird:  12.5\n",
      "\n",
      "\n",
      "Units in meters per second.\n",
      "Max Delta V\n",
      " \tFirst:  7793.530651985934 \n",
      "\tSecond:  7602.832900331016 \n",
      "\tThird:  6192.234202426388 \n",
      "\n",
      "Total Delta V:  21588.59775474334\n"
     ]
    }
   ],
   "source": [
    "print(\n",
    "\"Unitless values.\\nMax Mass Fraction\\n\"\n",
    "    \"\\tFirst: \", max_mf1, \"\\n\\tSecond: \", max_mf2, \"\\n\\tThird: \", max_mf3)\n",
    "print(\n",
    "\"\\n\\nUnits in meters per second.\\nMax Delta V\\n\",\n",
    "    \"\\tFirst: \", np.max(deltav_first), \"\\n\\tSecond: \", np.max(deltav_second), \"\\n\\tThird: \", np.max(deltav_third),\n",
    "\"\\n\\nTotal Delta V: \", deltav_total_max)"
   ]
  },
  {
   "cell_type": "markdown",
   "id": "4fad122c",
   "metadata": {},
   "source": [
    "## Calculating Delta V with Mass Equations"
   ]
  },
  {
   "cell_type": "code",
   "execution_count": 11,
   "id": "35f0c467",
   "metadata": {},
   "outputs": [],
   "source": [
    "## Constants given in project\n",
    "\n",
    "total_length = 10.0 * 39.3700787402\n",
    "diameter = 1.0 * 39.3700787402 ## convert given meters to inches (final unit inches)"
   ]
  },
  {
   "cell_type": "code",
   "execution_count": 12,
   "id": "5f141f27",
   "metadata": {},
   "outputs": [],
   "source": [
    "launch_weight = 0.04 * total_length * (diameter)*(diameter) ## pounds"
   ]
  },
  {
   "cell_type": "code",
   "execution_count": 13,
   "id": "70cc6b2d",
   "metadata": {
    "scrolled": true
   },
   "outputs": [
    {
     "name": "stdout",
     "output_type": "stream",
     "text": [
      "24409.497637972003 lbs\n",
      "11070.066955996374 kg\n"
     ]
    }
   ],
   "source": [
    "print(launch_weight, \"lbs\")\n",
    "print(launch_weight/2.205, \"kg\")"
   ]
  },
  {
   "cell_type": "code",
   "execution_count": 14,
   "id": "56f78e33",
   "metadata": {},
   "outputs": [
    {
     "name": "stdout",
     "output_type": "stream",
     "text": [
      "[ 1.   1.1  1.2  1.3  1.4  1.5  1.5  1.6  1.7  1.8  1.9  2.   2.1  2.2\n",
      "  2.3  2.4  2.5  2.5  2.6  2.7  2.8  2.9  3.   3.1  3.2  3.3  3.4  3.5\n",
      "  3.5  3.6  3.7  3.8  3.9  4.   4.1  4.2  4.3  4.4  4.5  4.5  4.6  4.7\n",
      "  4.8  4.9  5.   5.1  5.2  5.3  5.4  5.5  5.5  5.6  5.7  5.8  5.9  6.\n",
      "  6.1  6.2  6.3  6.4  6.5  6.5  6.6  6.7  6.8  6.9  7.   7.1  7.2  7.3\n",
      "  7.4  7.5  7.5  7.6  7.7  7.8  7.9  8.   8.1  8.2  8.3  8.4  8.5  8.5\n",
      "  8.6  8.7  8.8  8.9  9.   9.1  9.2  9.3  9.4  9.5  9.5  9.6  9.7  9.8\n",
      "  9.9 10. ]\n"
     ]
    }
   ],
   "source": [
    "## Lengths in ratio form\n",
    "l1_ratio = np.linspace(0.1, 1, 100)\n",
    "l2_ratio = np.linspace(0.1, 1, 100)\n",
    "print(np.round(l1_ratio*10, 1)) ## lengths corresponding to l1's ratio, rounded to tenths"
   ]
  },
  {
   "cell_type": "code",
   "execution_count": 15,
   "id": "4a62bc2a",
   "metadata": {},
   "outputs": [
    {
     "name": "stdout",
     "output_type": "stream",
     "text": [
      "[(1., 2., 3.) (1., 3., 4.)]\n"
     ]
    },
    {
     "data": {
      "text/plain": [
       "array([(1., 2., 3.), (1., 3., 4.), (4., 4., 2.)],\n",
       "      dtype=[('l1r', '<f8'), ('l2r', '<f8'), ('l3r', '<f8')])"
      ]
     },
     "execution_count": 15,
     "metadata": {},
     "output_type": "execute_result"
    }
   ],
   "source": [
    "## Create new data type to hold a tuple in each element of the array (makes adding elements easier)\n",
    "##length 1 ratio, length 2 ratio, length 3 ratio\n",
    "dt = np.dtype([('l1r', np.float64), ('l2r', np.float64), ('l3r', np.float64)])\n",
    "\n",
    "## Test dt to make sure it works as expected\n",
    "\n",
    "test = np.array([(1,2,3), (1,3,4)], dtype = dt)\n",
    "\n",
    "print(test)\n",
    "np.append(test, np.array([(4.,4.,2.)], dtype = dt))\n"
   ]
  },
  {
   "cell_type": "code",
   "execution_count": 16,
   "id": "012779f2",
   "metadata": {},
   "outputs": [],
   "source": [
    "## Find all possible ratio combos between the three stages, put it in an np array of tuples\n",
    "ratio_list = np.array([], dtype=dt )\n",
    "\n",
    "for i in l1_ratio:\n",
    "    for j in l2_ratio:\n",
    "        if(i+j > 1):\n",
    "            continue\n",
    "        else:\n",
    "            ratio_list = np.append(ratio_list, np.array([(i, j, 1-i-j)], dtype = dt)) \n",
    "    \n",
    "    \n",
    "    "
   ]
  },
  {
   "cell_type": "code",
   "execution_count": 17,
   "id": "10693e02",
   "metadata": {},
   "outputs": [
    {
     "name": "stdout",
     "output_type": "stream",
     "text": [
      "[[1.   1.   8.  ]\n",
      " [1.   1.09 7.91]\n",
      " [1.   1.18 7.82]\n",
      " ...\n",
      " [8.91 1.   0.09]\n",
      " [8.91 1.09 0.  ]\n",
      " [9.   1.   0.  ]] \n",
      "\n",
      "(4005, 3)\n"
     ]
    }
   ],
   "source": [
    "## convert the np array of tuples to a more useful np array of 3 columns and each row representing a tuple of \n",
    "## the ratios\n",
    "ratio_list_converted = np.array([])\n",
    "for i in ratio_list:\n",
    "    ratio_list_converted = np.append(ratio_list_converted, np.array([[i[0], i[1], i[2]]]))\n",
    "    \n",
    "ratio_list_converted = np.reshape(ratio_list_converted, (-1, 3)).astype(np.float64)\n",
    "\n",
    "##np.set_printoptions(threshold=np.inf) - to see ENTIRE list\n",
    "print(np.round(ratio_list_converted*10, 2), \"\\n\")\n",
    "print(ratio_list_converted.shape)\n",
    "\n",
    "## 4005 different combinations!"
   ]
  },
  {
   "cell_type": "code",
   "execution_count": 18,
   "id": "39f25f3e",
   "metadata": {},
   "outputs": [],
   "source": [
    "##now we calculate masses\n",
    "\n",
    "launch_weights = 0.04 * (10 * ratio_list_converted * meters_to_inches) * diameter * diameter + payload ## lbs \n",
    "\n",
    "final_masses = launch_weights*.22 + payload ## after losing the propellant"
   ]
  },
  {
   "cell_type": "code",
   "execution_count": 19,
   "id": "bfb023d4",
   "metadata": {},
   "outputs": [
    {
     "name": "stdout",
     "output_type": "stream",
     "text": [
      "[2 9]\n"
     ]
    }
   ],
   "source": [
    "test1 = np.array([[0, 2], [4,5]])\n",
    "print(np.sum(test1, axis = 1))"
   ]
  },
  {
   "cell_type": "code",
   "execution_count": 20,
   "id": "60630dc7",
   "metadata": {},
   "outputs": [
    {
     "name": "stdout",
     "output_type": "stream",
     "text": [
      "(4005, 3)\n",
      "[6.20321817 5.89202911 5.61057066 ... 3.08482134 3.005873   3.06709893]\n",
      "[6.20321817 5.89202911 5.61057066 ... 3.08482134 3.005873   3.06709893]\n",
      "[0.14055246 0.15221389 0.16406808 ... 1.50927547 1.77629237 1.69950617]\n",
      "[0.14055246 0.15221389 0.16406808 ... 1.50927547 1.77629237 1.69950617]\n",
      "[4.04122596 4.03622237 4.03111849 ... 1.07186552 0.81967213 0.81967213]\n",
      "[4.04122596 4.03622237 4.03111849 ... 1.07186552 0.81967213 0.81967213]\n"
     ]
    }
   ],
   "source": [
    "## now mass fractions - m0/mf\n",
    "\n",
    "stage_1_mf = np.sum(launch_weights, axis = 1)/(np.sum(launch_weights[:, 1:2], axis=1) + final_masses[:, 0])\n",
    "\n",
    "stage_2_mf = np.sum(launch_weights[:, 1:2], axis = 1)/(launch_weights[:, 2] + final_masses[:, 1])\n",
    "\n",
    "stage_3_mf = launch_weights[:, 2]/final_masses[:, 2]\n",
    "\n",
    "## Calculate mass fractions by taking initial launch weight / final masses of the lowest stage\n",
    "\n",
    "mass_fractions = np.stack((stage_1_mf, stage_2_mf, stage_3_mf), axis = 1)\n",
    "\n",
    "print(mass_fractions.shape)\n",
    "\n",
    "print(mass_fractions[:, 0])\n",
    "print(stage_1_mf)\n",
    "\n",
    "print(mass_fractions[:, 1])\n",
    "print(stage_2_mf)\n",
    "\n",
    "print(mass_fractions[:, 2])\n",
    "print(stage_3_mf)\n",
    "\n"
   ]
  },
  {
   "cell_type": "code",
   "execution_count": 47,
   "id": "cbdffc0f",
   "metadata": {},
   "outputs": [],
   "source": [
    "## now delta vs\n",
    "\n",
    "delta_v = np.log(mass_fractions) * v_eq\n",
    "delta_v[:, 0] = delta_v[:, 0] - g*10\n",
    "## note - there will be negative delta_vs, but we ignore those in the final output\n",
    "\n",
    "## and quickly sum for total delta vs\n",
    "delta_v_three = delta_v ## all three, to check negative\n",
    "delta_v = np.sum(delta_v, axis = 1)\n",
    "\n"
   ]
  },
  {
   "cell_type": "code",
   "execution_count": 58,
   "id": "d6cb09de",
   "metadata": {},
   "outputs": [
    {
     "name": "stdout",
     "output_type": "stream",
     "text": [
      "5111.747027326783\n",
      "2912\n",
      "^ Best: [1422.28721389 1468.65129159 2220.80852185]\n",
      "2864.0223763749714\n",
      "88\n",
      "^ Worst: [ 131.92941588 3219.60815398 -487.51519348]\n",
      "[1.85917294 1.82037589 2.47400373]\n",
      "[1422.28721389 1468.65129159 2220.80852185]\n"
     ]
    }
   ],
   "source": [
    "## Now find best performing mass fractions\n",
    "\n",
    "print(np.max(delta_v))\n",
    "print(np.argmax(delta_v))\n",
    "print(\"^ Best:\", delta_v_three[np.argmax(delta_v), :])\n",
    "print(np.min(delta_v))\n",
    "print(np.argmin(delta_v))\n",
    "print(\"^ Worst:\", delta_v_three[np.argmin(delta_v), :])\n",
    "\n",
    "\n",
    "best_performing_index = np.argmax(delta_v)\n",
    "\n",
    "print(mass_fractions[best_performing_index, :])\n",
    "print(delta_v_three[best_performing_index, :]) ## nonnegative!\n"
   ]
  },
  {
   "cell_type": "code",
   "execution_count": 51,
   "id": "43aeb242",
   "metadata": {},
   "outputs": [
    {
     "name": "stdout",
     "output_type": "stream",
     "text": [
      "Top 10 delta-v values:\n",
      "5111.747027326783\n",
      "5111.546389425561\n",
      "5111.44553677942\n",
      "5110.873576122227\n",
      "5110.609709361528\n",
      "5109.756475674914\n",
      "5109.532825982593\n",
      "5109.398319570724\n",
      "5109.204869074669\n",
      "5109.143956091979\n",
      "\n",
      "Top 100 delta-v values and their corresponding mass fractions:\n",
      "5111.747027326783\n",
      "[1.85917294 1.82037589 2.47400373]\n",
      "[1422.28721389 1468.65129159 2220.80852185]\n",
      "5111.546389425561\n",
      "[1.83649794 1.84270102 2.47400373]\n",
      "[1392.20221118 1498.53565639 2220.80852185]\n",
      "5111.44553677942\n",
      "[1.88241487 1.79767887 2.47400373]\n",
      "[1452.74598907 1437.89102586 2220.80852185]\n",
      "5110.873576122227\n",
      "[1.81436938 1.86466333 2.47400373]\n",
      "[1362.48191862 1527.58313566 2220.80852185]\n",
      "5110.609709361528\n",
      "[1.90624525 1.77460059 2.47400373]\n",
      "[1483.58794111 1406.2132464  2220.80852185]\n",
      "5109.756475674914\n",
      "[1.79276775 1.88627159 2.47400373]\n",
      "[1333.11759948 1555.83035434 2220.80852185]\n",
      "5109.532825982593\n",
      "[1.87580082 1.86841486 2.38687102]\n",
      "[1444.11666958 1532.51070033 2132.90545606]\n",
      "5109.398319570724\n",
      "[1.89946299 1.84503824 2.38687102]\n",
      "[1474.84957341 1501.6432901  2132.90545606]\n",
      "5109.204869074669\n",
      "[1.93068674 1.75113136 2.47400373]\n",
      "[1514.82283383 1373.5735134  2220.80852185]\n",
      "5109.143956091979\n",
      "[1.85272093 1.89139023 2.38687102]\n",
      "[1413.76425448 1562.47424555 2132.90545606]\n",
      "5108.736319746002\n",
      "[1.84283726 1.77654513 2.55437503]\n",
      "[1400.65041223 1408.89821213 2299.18769539]\n",
      "5108.706011445591\n",
      "[1.92372975 1.82124976 2.38687102]\n",
      "[1505.97262656 1469.82792882 2132.90545606]\n",
      "5108.6768724290905\n",
      "[1.8205566  1.79824356 2.55437503]\n",
      "[1370.82815108 1438.66102596 2299.18769539]\n",
      "5108.314510368193\n",
      "[1.86567004 1.75450121 2.55437503]\n",
      "[1430.8399059  1378.28690908 2299.18769539]\n",
      "5108.263674527707\n",
      "[1.83020209 1.91397458 2.38687102]\n",
      "[1383.7830219  1591.57519656 2132.90545606]\n",
      "5108.221083074582\n",
      "[1.77167443 1.90753429 2.47400373]\n",
      "[1304.1008273  1583.31173393 2220.80852185]\n",
      "5108.164242093804\n",
      "[1.79880826 1.81960456 2.55437503]\n",
      "[1341.36429551 1467.6122512  2299.18769539]\n",
      "5107.418778839156\n",
      "[1.94862459 1.79703844 2.38687102]\n",
      "[1537.49586232 1437.01746045 2132.90545606]\n",
      "5107.381301333246\n",
      "[1.88907572 1.73210347 2.55437503]\n",
      "[1461.40578921 1346.78781674 2299.18769539]\n",
      "5107.224604739544\n",
      "[1.7775734  1.84063594 2.55437503]\n",
      "[1312.25033303 1495.78657632 2299.18769539]\n",
      "5107.193635579166\n",
      "[1.95576313 1.72726117 2.47400373]\n",
      "[1546.46080906 1339.92430467 2220.80852185]\n",
      "5106.92169715031\n",
      "[1.80822409 1.93617782 2.38687102]\n",
      "[1354.16400298 1619.8522381  2132.90545606]\n",
      "5106.291654707378\n",
      "[1.75107169 1.92845965 2.47400373]\n",
      "[1275.42347129 1610.05966157 2220.80852185]\n",
      "5105.904289720324\n",
      "[1.91307612 1.70934334 2.55437503]\n",
      "[1492.35756608 1314.35902825 2299.18769539]\n",
      "5105.882393441127\n",
      "[1.75683404 1.86134526 2.55437503]\n",
      "[1283.47805089 1523.21664717 2299.18769539]\n",
      "5105.496537063259\n",
      "[1.97417219 1.77239291 2.38687102]\n",
      "[1569.42970604 1403.16137496 2132.90545606]\n",
      "5105.145681454394\n",
      "[1.78676766 1.95800952 2.38687102]\n",
      "[1324.89855003 1647.34167536 2132.90545606]\n",
      "5104.535659440265\n",
      "[1.98149949 1.70297964 2.47400373]\n",
      "[1578.51240645 1305.21473114 2220.80852185]\n",
      "5104.160438161027\n",
      "[1.73657305 1.88173987 2.55437503]\n",
      "[1255.03952213 1549.93322064 2299.18769539]\n",
      "5103.990848075447\n",
      "[1.73094263 1.94905565 2.47400373]\n",
      "[1247.07768271 1636.10464352 2220.80852185]\n",
      "5103.848600367459\n",
      "[1.93769422 1.68621194 2.55437503]\n",
      "[1523.70510506 1280.95579992 2299.18769539]\n",
      "5102.96139790801\n",
      "[1.76581447 1.97947892 2.38687102]\n",
      "[1295.9783214  1674.07762045 2132.90545606]\n",
      "5102.895942968347\n",
      "[2.00039858 1.74730138 2.38687102]\n",
      "[1601.78499585 1368.20549106 2132.90545606]\n",
      "5102.080092290835\n",
      "[1.71677405 1.9018269  2.55437503]\n",
      "[1226.9270925  1575.9653044  2299.18769539]\n",
      "5101.642936355183\n",
      "[1.80488962 1.75748913 2.62874254]\n",
      "[1349.63882472 1382.45855043 2369.5455612 ]\n",
      "5101.600020584141\n",
      "[1.82678615 1.73639282 2.62874254]\n",
      "[1379.20289385 1352.85156553 2369.5455612 ]\n",
      "5101.339848246042\n",
      "[1.71127108 1.96932999 2.47400373]\n",
      "[1219.05588194 1661.47544445 2220.80852185]\n",
      "5101.25126743345\n",
      "[1.78351179 1.77827093 2.62874254]\n",
      "[1320.42701869 1411.27868754 2369.5455612 ]\n",
      "5101.187325395083\n",
      "[2.00792223 1.67827607 2.47400373]\n",
      "[1610.98858446 1269.39021909 2220.80852185]\n",
      "5101.176649029569\n",
      "[1.96295416 1.66270012 2.55437503]\n",
      "[1555.4586581  1246.53029554 2299.18769539]\n",
      "5101.096199637436\n",
      "[1.84922049 1.71497481 2.62874254]\n",
      "[1409.12782569 1322.42281274 2369.5455612 ]\n",
      "5100.732476112636\n",
      "[1.91682273 1.89721772 2.29208619]\n",
      "[1497.1542526  1570.0163555  2033.56186801]\n",
      "5100.642994381415\n",
      "[1.89272882 1.92129864 2.29208619]\n",
      "[1466.14224095 1600.93888541 2033.56186801]\n",
      "5100.449588475329\n",
      "[1.76263445 1.7987452  2.62874254]\n",
      "[1291.55917988 1439.34484739 2369.5455612 ]\n",
      "5100.392884436533\n",
      "[1.74534702 2.00059496 2.38687102]\n",
      "[1267.3952672  1700.09216117 2132.90545606]\n",
      "5100.240368662635\n",
      "[1.94153797 1.87269073 2.29208619]\n",
      "[1528.56357813 1538.11492252 2033.56186801]\n",
      "5100.103252433242\n",
      "[1.87221271 1.69322768 2.62874254]\n",
      "[1439.4225387  1291.13515253 2369.5455612 ]\n",
      "5100.008723761157\n",
      "[1.86923309 1.94494558 2.29208619]\n",
      "[1435.51761693 1630.92923882 2033.56186801]\n",
      "5099.661347379595\n",
      "[1.69742143 1.92161324 2.55437503]\n",
      "[1199.13336807 1601.34028392 2299.18769539]\n",
      "5099.570061759783\n",
      "[2.02733118 1.72175163 2.38687102]\n",
      "[1634.57300473 1332.09160097 2132.90545606]\n",
      "5099.260868148303\n",
      "[1.74224022 1.81891872 2.62874254]\n",
      "[1263.02730211 1466.68800484 2369.5455612 ]\n",
      "5099.1269199541275\n",
      "[1.96689888 1.84770518 2.29208619]\n",
      "[1560.38053025 1505.18452169 2033.56186801]\n",
      "5098.86377697654\n",
      "[1.84631355 1.96817013 2.29208619]\n",
      "[1405.27082167 1660.0310873  2033.56186801]\n",
      "5098.5908856677415\n",
      "[1.89578387 1.67114379 2.62874254]\n",
      "[1470.09628608 1258.94903838 2369.5455612 ]\n",
      "5098.3584824870495\n",
      "[1.69204164 1.98929016 2.47400373]\n",
      "[1191.35074636 1686.19921428 2220.80852185]\n",
      "5097.847877552915\n",
      "[1.98888139 1.63879842 2.55437503]\n",
      "[1587.62888079 1211.03130137 2299.18769539]\n",
      "5097.706595702306\n",
      "[1.72231253 1.83879807 2.62874254]\n",
      "[1234.82365547 1493.33737903 2369.5455612 ]\n",
      "5097.462585968517\n",
      "[1.7253486  2.0213663  2.38687102]\n",
      "[1239.14161589 1725.41551401 2132.90545606]\n",
      "5097.349129939566\n",
      "[1.99293111 1.82224808 2.29208619]\n",
      "[1592.61582851 1471.17143342 2033.56186801]\n",
      "5097.239815425669\n",
      "[1.82394926 1.99098354 2.29208619]\n",
      "[1375.39264582 1688.28530159 2033.56186801]\n",
      "5097.101418977165\n",
      "[2.03505917 1.65313933 2.47400373]\n",
      "[1643.90074293 1232.39215419 2220.80852185]\n",
      "5096.922937324953\n",
      "[1.67850026 1.94110559 2.55437503]\n",
      "[1171.65120357 1626.08403837 2299.18769539]\n",
      "5096.526543135989\n",
      "[1.91995613 1.64871526 2.62874254]\n",
      "[1501.15867275 1225.82230918 2369.5455612 ]\n",
      "5095.806895731766\n",
      "[1.70283555 1.85838963 2.62874254]\n",
      "[1206.94077383 1519.3205607  2369.5455612 ]\n",
      "5095.467991702153\n",
      "[2.05499889 1.69573099 2.38687102]\n",
      "[1667.80546411 1294.75707152 2132.90545606]\n",
      "5095.166260870161\n",
      "[1.80212027 2.01339661 2.29208619]\n",
      "[1345.87421269 1715.73018017 2033.56186801]\n",
      "5095.065324365241\n",
      "[1.67323955 2.0089434  2.47400373]\n",
      "[1163.9551988  1710.30160371 2220.80852185]\n",
      "5094.860417784385\n",
      "[2.01966166 1.79630595 2.29208619]\n",
      "[1625.28062091 1436.01792886 2033.56186801]\n",
      "5094.191480713631\n",
      "[1.70580328 2.04180131 2.38687102]\n",
      "[1211.20986153 1750.07616312 2132.90545606]\n",
      "5093.882433146668\n",
      "[1.65999626 1.96031047 2.55437503]\n",
      "[1144.47369136 1650.2210464  2299.18769539]\n",
      "5093.875193450633\n",
      "[1.94475276 1.62593395 2.62874254]\n",
      "[1532.61967343 1191.70995881 2369.5455612 ]\n",
      "5093.818457077085\n",
      "[2.01550269 1.61449705 2.55437503]\n",
      "[1620.22685375 1174.40390794 2299.18769539]\n",
      "5093.5806324037485\n",
      "[1.68379415 1.87769961 2.62874254]\n",
      "[1179.37144293 1544.66362827 2369.5455612 ]\n",
      "5092.670485524647\n",
      "[1.78080761 2.0354198  2.29208619]\n",
      "[1316.7069624  1742.40165511 2033.56186801]\n",
      "5092.226751030063\n",
      "[2.06293967 1.62755794 2.47400373]\n",
      "[1677.26074709 1194.15748209 2220.80852185]\n",
      "5091.610246948856\n",
      "[2.04711901 1.7698648  2.29208619]\n",
      "[1658.38650711 1399.66187182 2033.56186801]\n",
      "5091.477788427155\n",
      "[1.65485072 2.02829673 2.47400373]\n",
      "[1136.86239674 1733.80686984 2220.80852185]\n",
      "5091.296571078998\n",
      "[1.78948999 1.71999356 2.69775477]\n",
      "[1328.63106618 1329.58695184 2433.07855306]\n",
      "5091.183414167712\n",
      "[1.81101223 1.69947455 2.69775477]\n",
      "[1357.94137565 1300.16348546 2433.07855306]\n",
      "5091.045504271137\n",
      "[1.6651739  1.89673404 2.62874254]\n",
      "[1152.10868918 1569.39125389 2369.5455612 ]\n",
      "5090.993245101429\n",
      "[1.76847328 1.74021882 2.69775477]\n",
      "[1299.66703387 1358.24765817 2433.07855306]\n",
      "5090.629087847448\n",
      "[1.83305848 1.67865533 2.69775477]\n",
      "[1387.60634235 1269.94419244 2433.07855306]\n",
      "5090.599194630893\n",
      "[1.68669583 2.0619081  2.38687102]\n",
      "[1183.59275186 1774.10098671 2132.90545606]\n",
      "5090.599093210898\n",
      "[1.97019828 1.60279147 2.62874254]\n",
      "[1564.48965184 1156.56388017 2369.5455612 ]\n",
      "5090.556329327032\n",
      "[1.6418958  1.97923418 2.55437503]\n",
      "[1117.594151   1673.77448294 2299.18769539]\n",
      "5090.534440274325\n",
      "[2.08343224 1.66922633 2.38687102]\n",
      "[1701.49458907 1256.13439514 2132.90545606]\n",
      "5090.296515001701\n",
      "[1.7479445  1.76015658 2.69775477]\n",
      "[1271.04119222 1386.17676972 2433.07855306]\n",
      "5089.777983093789\n",
      "[1.75999316 2.05706318 2.29208619]\n",
      "[1287.88263701 1768.33347807 2033.56186801]\n",
      "5089.607158034642\n",
      "[1.8556481  1.65752927 2.69775477]\n",
      "[1417.63465428 1238.89395069 2433.07855306]\n",
      "5089.227978344177\n",
      "[1.72788685 1.77981293 2.69775477]\n",
      "[1242.7457347  1413.40369059 2433.07855306]\n",
      "5089.040954602715\n",
      "[2.04284631 1.5897859  2.55437503]\n",
      "[1653.26410558 1136.58915364 2299.18769539]\n",
      "5088.218130655016\n",
      "[1.64696097 1.91549878 2.62874254]\n",
      "[1125.14576909 1593.52680036 2369.5455612 ]\n",
      "5088.089288345765\n",
      "[1.87880143 1.63608953 2.69775477]\n",
      "[1448.03532265 1206.97541264 2433.07855306]\n",
      "5087.807866239218\n",
      "[1.70828431 1.79919379 2.69775477]\n",
      "[1214.773122   1439.95619118 2433.07855306]\n",
      "5087.612216447396\n",
      "[1.63686169 2.04735697 2.47400373]\n",
      "[1110.06572203 1756.73797257 2220.80852185]\n",
      "5087.543701731059\n",
      "[2.07533322 1.7429101  2.29208619]\n",
      "[1691.94556311 1362.03627061 2033.56186801]\n",
      "5086.960122585902\n",
      "[1.62418581 1.99788285 2.55437503]\n",
      "[1091.00611944 1696.76630776 2299.18769539]\n",
      "5086.704105363651\n",
      "[1.66801171 2.0816945  2.38687102]\n",
      "[1156.28327696 1797.51537234 2132.90545606]\n",
      "5086.65752219888\n",
      "[1.99631849 1.57927916 2.62874254]\n",
      "[1596.77938119 1120.3325798  2369.5455612 ]\n",
      "5086.512522964187\n",
      "[1.73965965 2.07833651 2.29208619]\n",
      "[1259.39326646 1793.55738849 2033.56186801]\n"
     ]
    }
   ],
   "source": [
    "# Find the indices that would sort delta_v in descending order\n",
    "sorted_indices = np.argsort(delta_v)[::-1]\n",
    "\n",
    "# Select how many top-performing configurations you want to see\n",
    "top_n = 100\n",
    "\n",
    "# Print top 10 delta-v values\n",
    "print(\"Top 10 delta-v values:\")\n",
    "for idx in sorted_indices[:10]:\n",
    "    print(delta_v[idx])\n",
    "\n",
    "# Print top 100 delta-v values and their corresponding mass fractions\n",
    "print(\"\\nTop 100 delta-v values and their corresponding mass fractions:\")\n",
    "for idx in sorted_indices[:top_n]:\n",
    "    print(delta_v[idx])\n",
    "    print(mass_fractions[idx])\n",
    "    print(delta_v_three[idx])"
   ]
  },
  {
   "cell_type": "code",
   "execution_count": null,
   "id": "0795ce9f",
   "metadata": {},
   "outputs": [],
   "source": []
  }
 ],
 "metadata": {
  "kernelspec": {
   "display_name": "Python 3 (ipykernel)",
   "language": "python",
   "name": "python3"
  },
  "language_info": {
   "codemirror_mode": {
    "name": "ipython",
    "version": 3
   },
   "file_extension": ".py",
   "mimetype": "text/x-python",
   "name": "python",
   "nbconvert_exporter": "python",
   "pygments_lexer": "ipython3",
   "version": "3.13.3"
  }
 },
 "nbformat": 4,
 "nbformat_minor": 5
}
